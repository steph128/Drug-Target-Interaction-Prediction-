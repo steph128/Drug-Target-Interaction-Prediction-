{
 "cells": [
  {
   "cell_type": "code",
   "execution_count": 2,
   "metadata": {},
   "outputs": [],
   "source": [
    "import numpy as np\n",
    "import pandas as pd\n",
    "import random\n",
    "from sklearn.model_selection import train_test_split"
   ]
  },
  {
   "cell_type": "markdown",
   "metadata": {},
   "source": [
    "## Preprocessing Drug, Target and Drug-Target Interaction Matrics"
   ]
  },
  {
   "cell_type": "code",
   "execution_count": 3,
   "metadata": {},
   "outputs": [],
   "source": [
    "drug_features = pd.read_csv(\"C:/Users/szest/Documents/DTI_prediction/Drug_features.txt\",\n",
    "                            delimiter=\"\\t\", header=None)\n",
    "drug_ID = pd.read_csv(\"C:/Users/szest/Documents/DTI_prediction/Drug_ID.txt\",\n",
    "                        delimiter=\"\\t\", header=None)\n",
    "\n",
    "drug_features_list = drug_features[0].values\n",
    "drug_ID_list = drug_ID[0].values\n",
    "\n",
    "drug = pd.read_csv(\"C:/Users/szest/Documents/DTI_prediction/Drug_feature_vectors.txt\",\n",
    "                        delimiter=\"\\t\", header=None)\n",
    "\n",
    "drug.columns = drug_features_list\n",
    "drug.index = drug_ID_list\n"
   ]
  },
  {
   "cell_type": "code",
   "execution_count": 4,
   "metadata": {},
   "outputs": [],
   "source": [
    "target_features = pd.read_csv(\"C:/Users/szest/Documents/DTI_prediction/Target_features.txt\",\n",
    "                            delimiter=\"\\t\", header=None)\n",
    "target_ID = pd.read_csv(\"C:/Users/szest/Documents/DTI_prediction/Target_ID.txt\",\n",
    "                        delimiter=\"\\t\", header=None)\n",
    "\n",
    "target_features_list = target_features[0].values\n",
    "target_ID_list = target_ID[0].values\n",
    "\n",
    "target = pd.read_csv(\"C:/Users/szest/Documents/DTI_prediction/Target_feature_vectors.txt\",\n",
    "                        delimiter=\"\\t\", header=None)\n",
    "\n",
    "target.columns = target_features_list\n",
    "target.index = target_ID_list\n"
   ]
  },
  {
   "cell_type": "code",
   "execution_count": 5,
   "metadata": {},
   "outputs": [],
   "source": [
    "interactions = pd.read_csv(\"C:/Users/szest/Documents/DTI_prediction/DTI.txt\",\n",
    "                        delimiter=\"\\t\", header=None)\n",
    "interactions.columns = target_ID_list\n",
    "interactions.index = drug_ID_list"
   ]
  },
  {
   "cell_type": "code",
   "execution_count": 6,
   "metadata": {},
   "outputs": [
    {
     "data": {
      "text/html": [
       "<div>\n",
       "<style scoped>\n",
       "    .dataframe tbody tr th:only-of-type {\n",
       "        vertical-align: middle;\n",
       "    }\n",
       "\n",
       "    .dataframe tbody tr th {\n",
       "        vertical-align: top;\n",
       "    }\n",
       "\n",
       "    .dataframe thead th {\n",
       "        text-align: right;\n",
       "    }\n",
       "</style>\n",
       "<table border=\"1\" class=\"dataframe\">\n",
       "  <thead>\n",
       "    <tr style=\"text-align: right;\">\n",
       "      <th></th>\n",
       "      <th>ALogP</th>\n",
       "      <th>ALogp2</th>\n",
       "      <th>AMR</th>\n",
       "      <th>apol</th>\n",
       "      <th>nA</th>\n",
       "      <th>nR</th>\n",
       "      <th>nN</th>\n",
       "      <th>nD</th>\n",
       "      <th>nC</th>\n",
       "      <th>nQ</th>\n",
       "      <th>...</th>\n",
       "      <th>MW</th>\n",
       "      <th>WTPT.1</th>\n",
       "      <th>WTPT.2</th>\n",
       "      <th>WTPT.3</th>\n",
       "      <th>WTPT.4</th>\n",
       "      <th>WTPT.5</th>\n",
       "      <th>WPATH</th>\n",
       "      <th>WPOL</th>\n",
       "      <th>XLogP</th>\n",
       "      <th>Zagreb</th>\n",
       "    </tr>\n",
       "  </thead>\n",
       "  <tbody>\n",
       "    <tr>\n",
       "      <th>DB00014</th>\n",
       "      <td>0.74017</td>\n",
       "      <td>1.967000e-02</td>\n",
       "      <td>0.248390</td>\n",
       "      <td>0.234090</td>\n",
       "      <td>0.230770</td>\n",
       "      <td>0.00000</td>\n",
       "      <td>0.0</td>\n",
       "      <td>0.0</td>\n",
       "      <td>0.00000</td>\n",
       "      <td>0.00000</td>\n",
       "      <td>...</td>\n",
       "      <td>0.204500</td>\n",
       "      <td>0.214260</td>\n",
       "      <td>0.84683</td>\n",
       "      <td>0.168440</td>\n",
       "      <td>0.068113</td>\n",
       "      <td>0.319130</td>\n",
       "      <td>1.385100e-08</td>\n",
       "      <td>0.153850</td>\n",
       "      <td>0.61239</td>\n",
       "      <td>0.194730</td>\n",
       "    </tr>\n",
       "    <tr>\n",
       "      <th>DB00035</th>\n",
       "      <td>0.77503</td>\n",
       "      <td>9.953400e-03</td>\n",
       "      <td>0.203240</td>\n",
       "      <td>0.188980</td>\n",
       "      <td>0.179490</td>\n",
       "      <td>0.16667</td>\n",
       "      <td>0.5</td>\n",
       "      <td>0.0</td>\n",
       "      <td>0.16667</td>\n",
       "      <td>0.14286</td>\n",
       "      <td>...</td>\n",
       "      <td>0.172050</td>\n",
       "      <td>0.173430</td>\n",
       "      <td>0.84123</td>\n",
       "      <td>0.144040</td>\n",
       "      <td>0.057354</td>\n",
       "      <td>0.239180</td>\n",
       "      <td>7.539200e-09</td>\n",
       "      <td>0.126290</td>\n",
       "      <td>0.62466</td>\n",
       "      <td>0.153060</td>\n",
       "    </tr>\n",
       "    <tr>\n",
       "      <th>DB00050</th>\n",
       "      <td>0.77162</td>\n",
       "      <td>1.075800e-02</td>\n",
       "      <td>0.291280</td>\n",
       "      <td>0.266010</td>\n",
       "      <td>0.256410</td>\n",
       "      <td>0.16667</td>\n",
       "      <td>0.0</td>\n",
       "      <td>0.0</td>\n",
       "      <td>0.00000</td>\n",
       "      <td>0.00000</td>\n",
       "      <td>...</td>\n",
       "      <td>0.230620</td>\n",
       "      <td>0.240360</td>\n",
       "      <td>0.84725</td>\n",
       "      <td>0.164940</td>\n",
       "      <td>0.066911</td>\n",
       "      <td>0.296570</td>\n",
       "      <td>1.915800e-08</td>\n",
       "      <td>0.176810</td>\n",
       "      <td>0.63210</td>\n",
       "      <td>0.214290</td>\n",
       "    </tr>\n",
       "    <tr>\n",
       "      <th>DB00091</th>\n",
       "      <td>0.84958</td>\n",
       "      <td>1.733700e-04</td>\n",
       "      <td>0.258190</td>\n",
       "      <td>0.251410</td>\n",
       "      <td>0.153850</td>\n",
       "      <td>0.00000</td>\n",
       "      <td>0.0</td>\n",
       "      <td>0.0</td>\n",
       "      <td>0.00000</td>\n",
       "      <td>0.00000</td>\n",
       "      <td>...</td>\n",
       "      <td>0.193680</td>\n",
       "      <td>0.192940</td>\n",
       "      <td>0.78691</td>\n",
       "      <td>0.123110</td>\n",
       "      <td>0.057586</td>\n",
       "      <td>0.208420</td>\n",
       "      <td>9.877500e-09</td>\n",
       "      <td>0.172220</td>\n",
       "      <td>0.72813</td>\n",
       "      <td>0.175170</td>\n",
       "    </tr>\n",
       "    <tr>\n",
       "      <th>DB00093</th>\n",
       "      <td>0.76321</td>\n",
       "      <td>1.288000e-02</td>\n",
       "      <td>0.201090</td>\n",
       "      <td>0.187440</td>\n",
       "      <td>0.205130</td>\n",
       "      <td>0.00000</td>\n",
       "      <td>0.5</td>\n",
       "      <td>0.0</td>\n",
       "      <td>0.33333</td>\n",
       "      <td>0.14286</td>\n",
       "      <td>...</td>\n",
       "      <td>0.167350</td>\n",
       "      <td>0.168840</td>\n",
       "      <td>0.84250</td>\n",
       "      <td>0.134010</td>\n",
       "      <td>0.052540</td>\n",
       "      <td>0.222690</td>\n",
       "      <td>6.846000e-09</td>\n",
       "      <td>0.125140</td>\n",
       "      <td>0.63235</td>\n",
       "      <td>0.148810</td>\n",
       "    </tr>\n",
       "    <tr>\n",
       "      <th>...</th>\n",
       "      <td>...</td>\n",
       "      <td>...</td>\n",
       "      <td>...</td>\n",
       "      <td>...</td>\n",
       "      <td>...</td>\n",
       "      <td>...</td>\n",
       "      <td>...</td>\n",
       "      <td>...</td>\n",
       "      <td>...</td>\n",
       "      <td>...</td>\n",
       "      <td>...</td>\n",
       "      <td>...</td>\n",
       "      <td>...</td>\n",
       "      <td>...</td>\n",
       "      <td>...</td>\n",
       "      <td>...</td>\n",
       "      <td>...</td>\n",
       "      <td>...</td>\n",
       "      <td>...</td>\n",
       "      <td>...</td>\n",
       "      <td>...</td>\n",
       "    </tr>\n",
       "    <tr>\n",
       "      <th>DB09202</th>\n",
       "      <td>0.86008</td>\n",
       "      <td>9.540100e-07</td>\n",
       "      <td>0.051852</td>\n",
       "      <td>0.042921</td>\n",
       "      <td>0.000000</td>\n",
       "      <td>0.00000</td>\n",
       "      <td>0.0</td>\n",
       "      <td>0.0</td>\n",
       "      <td>0.00000</td>\n",
       "      <td>0.00000</td>\n",
       "      <td>...</td>\n",
       "      <td>0.033898</td>\n",
       "      <td>0.037519</td>\n",
       "      <td>0.88366</td>\n",
       "      <td>0.017294</td>\n",
       "      <td>0.005873</td>\n",
       "      <td>0.036328</td>\n",
       "      <td>1.230200e-10</td>\n",
       "      <td>0.021814</td>\n",
       "      <td>0.66877</td>\n",
       "      <td>0.035714</td>\n",
       "    </tr>\n",
       "    <tr>\n",
       "      <th>DB09207</th>\n",
       "      <td>0.86391</td>\n",
       "      <td>1.205600e-05</td>\n",
       "      <td>0.082635</td>\n",
       "      <td>0.068223</td>\n",
       "      <td>0.000000</td>\n",
       "      <td>0.00000</td>\n",
       "      <td>0.0</td>\n",
       "      <td>0.0</td>\n",
       "      <td>0.00000</td>\n",
       "      <td>0.00000</td>\n",
       "      <td>...</td>\n",
       "      <td>0.063400</td>\n",
       "      <td>0.055422</td>\n",
       "      <td>0.84046</td>\n",
       "      <td>0.038655</td>\n",
       "      <td>0.010205</td>\n",
       "      <td>0.075116</td>\n",
       "      <td>3.616400e-10</td>\n",
       "      <td>0.045924</td>\n",
       "      <td>0.66390</td>\n",
       "      <td>0.050170</td>\n",
       "    </tr>\n",
       "    <tr>\n",
       "      <th>DB09217</th>\n",
       "      <td>0.87126</td>\n",
       "      <td>1.443600e-04</td>\n",
       "      <td>0.071860</td>\n",
       "      <td>0.059786</td>\n",
       "      <td>0.000000</td>\n",
       "      <td>0.00000</td>\n",
       "      <td>0.0</td>\n",
       "      <td>0.0</td>\n",
       "      <td>0.00000</td>\n",
       "      <td>0.00000</td>\n",
       "      <td>...</td>\n",
       "      <td>0.053345</td>\n",
       "      <td>0.052963</td>\n",
       "      <td>0.83732</td>\n",
       "      <td>0.031491</td>\n",
       "      <td>0.025298</td>\n",
       "      <td>0.000000</td>\n",
       "      <td>3.134900e-10</td>\n",
       "      <td>0.041332</td>\n",
       "      <td>0.67058</td>\n",
       "      <td>0.054422</td>\n",
       "    </tr>\n",
       "    <tr>\n",
       "      <th>DB09242</th>\n",
       "      <td>0.85360</td>\n",
       "      <td>7.231100e-05</td>\n",
       "      <td>0.047090</td>\n",
       "      <td>0.037685</td>\n",
       "      <td>0.000000</td>\n",
       "      <td>0.00000</td>\n",
       "      <td>0.0</td>\n",
       "      <td>0.0</td>\n",
       "      <td>0.00000</td>\n",
       "      <td>0.00000</td>\n",
       "      <td>...</td>\n",
       "      <td>0.037940</td>\n",
       "      <td>0.036794</td>\n",
       "      <td>0.85124</td>\n",
       "      <td>0.038858</td>\n",
       "      <td>0.005308</td>\n",
       "      <td>0.091323</td>\n",
       "      <td>1.142900e-10</td>\n",
       "      <td>0.024110</td>\n",
       "      <td>0.65869</td>\n",
       "      <td>0.034014</td>\n",
       "    </tr>\n",
       "    <tr>\n",
       "      <th>DB09272</th>\n",
       "      <td>0.86343</td>\n",
       "      <td>8.535200e-06</td>\n",
       "      <td>0.134260</td>\n",
       "      <td>0.108100</td>\n",
       "      <td>0.025641</td>\n",
       "      <td>0.00000</td>\n",
       "      <td>0.0</td>\n",
       "      <td>0.0</td>\n",
       "      <td>0.00000</td>\n",
       "      <td>0.00000</td>\n",
       "      <td>...</td>\n",
       "      <td>0.091140</td>\n",
       "      <td>0.098923</td>\n",
       "      <td>0.85828</td>\n",
       "      <td>0.051718</td>\n",
       "      <td>0.023952</td>\n",
       "      <td>0.088316</td>\n",
       "      <td>1.656900e-09</td>\n",
       "      <td>0.080367</td>\n",
       "      <td>0.66875</td>\n",
       "      <td>0.092687</td>\n",
       "    </tr>\n",
       "  </tbody>\n",
       "</table>\n",
       "<p>5877 rows × 193 columns</p>\n",
       "</div>"
      ],
      "text/plain": [
       "           ALogP        ALogp2       AMR      apol        nA       nR   nN  \\\n",
       "DB00014  0.74017  1.967000e-02  0.248390  0.234090  0.230770  0.00000  0.0   \n",
       "DB00035  0.77503  9.953400e-03  0.203240  0.188980  0.179490  0.16667  0.5   \n",
       "DB00050  0.77162  1.075800e-02  0.291280  0.266010  0.256410  0.16667  0.0   \n",
       "DB00091  0.84958  1.733700e-04  0.258190  0.251410  0.153850  0.00000  0.0   \n",
       "DB00093  0.76321  1.288000e-02  0.201090  0.187440  0.205130  0.00000  0.5   \n",
       "...          ...           ...       ...       ...       ...      ...  ...   \n",
       "DB09202  0.86008  9.540100e-07  0.051852  0.042921  0.000000  0.00000  0.0   \n",
       "DB09207  0.86391  1.205600e-05  0.082635  0.068223  0.000000  0.00000  0.0   \n",
       "DB09217  0.87126  1.443600e-04  0.071860  0.059786  0.000000  0.00000  0.0   \n",
       "DB09242  0.85360  7.231100e-05  0.047090  0.037685  0.000000  0.00000  0.0   \n",
       "DB09272  0.86343  8.535200e-06  0.134260  0.108100  0.025641  0.00000  0.0   \n",
       "\n",
       "          nD       nC       nQ  ...        MW    WTPT.1   WTPT.2    WTPT.3  \\\n",
       "DB00014  0.0  0.00000  0.00000  ...  0.204500  0.214260  0.84683  0.168440   \n",
       "DB00035  0.0  0.16667  0.14286  ...  0.172050  0.173430  0.84123  0.144040   \n",
       "DB00050  0.0  0.00000  0.00000  ...  0.230620  0.240360  0.84725  0.164940   \n",
       "DB00091  0.0  0.00000  0.00000  ...  0.193680  0.192940  0.78691  0.123110   \n",
       "DB00093  0.0  0.33333  0.14286  ...  0.167350  0.168840  0.84250  0.134010   \n",
       "...      ...      ...      ...  ...       ...       ...      ...       ...   \n",
       "DB09202  0.0  0.00000  0.00000  ...  0.033898  0.037519  0.88366  0.017294   \n",
       "DB09207  0.0  0.00000  0.00000  ...  0.063400  0.055422  0.84046  0.038655   \n",
       "DB09217  0.0  0.00000  0.00000  ...  0.053345  0.052963  0.83732  0.031491   \n",
       "DB09242  0.0  0.00000  0.00000  ...  0.037940  0.036794  0.85124  0.038858   \n",
       "DB09272  0.0  0.00000  0.00000  ...  0.091140  0.098923  0.85828  0.051718   \n",
       "\n",
       "           WTPT.4    WTPT.5         WPATH      WPOL    XLogP    Zagreb  \n",
       "DB00014  0.068113  0.319130  1.385100e-08  0.153850  0.61239  0.194730  \n",
       "DB00035  0.057354  0.239180  7.539200e-09  0.126290  0.62466  0.153060  \n",
       "DB00050  0.066911  0.296570  1.915800e-08  0.176810  0.63210  0.214290  \n",
       "DB00091  0.057586  0.208420  9.877500e-09  0.172220  0.72813  0.175170  \n",
       "DB00093  0.052540  0.222690  6.846000e-09  0.125140  0.63235  0.148810  \n",
       "...           ...       ...           ...       ...      ...       ...  \n",
       "DB09202  0.005873  0.036328  1.230200e-10  0.021814  0.66877  0.035714  \n",
       "DB09207  0.010205  0.075116  3.616400e-10  0.045924  0.66390  0.050170  \n",
       "DB09217  0.025298  0.000000  3.134900e-10  0.041332  0.67058  0.054422  \n",
       "DB09242  0.005308  0.091323  1.142900e-10  0.024110  0.65869  0.034014  \n",
       "DB09272  0.023952  0.088316  1.656900e-09  0.080367  0.66875  0.092687  \n",
       "\n",
       "[5877 rows x 193 columns]"
      ]
     },
     "execution_count": 6,
     "metadata": {},
     "output_type": "execute_result"
    }
   ],
   "source": [
    "drug"
   ]
  },
  {
   "cell_type": "code",
   "execution_count": 7,
   "metadata": {},
   "outputs": [
    {
     "data": {
      "text/html": [
       "<div>\n",
       "<style scoped>\n",
       "    .dataframe tbody tr th:only-of-type {\n",
       "        vertical-align: middle;\n",
       "    }\n",
       "\n",
       "    .dataframe tbody tr th {\n",
       "        vertical-align: top;\n",
       "    }\n",
       "\n",
       "    .dataframe thead th {\n",
       "        text-align: right;\n",
       "    }\n",
       "</style>\n",
       "<table border=\"1\" class=\"dataframe\">\n",
       "  <thead>\n",
       "    <tr style=\"text-align: right;\">\n",
       "      <th></th>\n",
       "      <th>[G1.1.1.10]</th>\n",
       "      <th>[G1.1.1.11]</th>\n",
       "      <th>[G1.1.1.12]</th>\n",
       "      <th>[G1.1.1.13]</th>\n",
       "      <th>[G1.1.1.14]</th>\n",
       "      <th>[G1.1.1.15]</th>\n",
       "      <th>[G1.1.1.16]</th>\n",
       "      <th>[G1.1.1.17]</th>\n",
       "      <th>[G1.1.1.18]</th>\n",
       "      <th>[G1.1.1.19]</th>\n",
       "      <th>...</th>\n",
       "      <th>[G7.1.1.77]</th>\n",
       "      <th>[G7.1.1.78]</th>\n",
       "      <th>[G7.1.1.79]</th>\n",
       "      <th>[G7.1.1.7]</th>\n",
       "      <th>[G7.1.1.80]</th>\n",
       "      <th>[G7.1.1.8]</th>\n",
       "      <th>[G7.1.1.9]</th>\n",
       "      <th>[G9.1]</th>\n",
       "      <th>[G9.2]</th>\n",
       "      <th>[G9.3]</th>\n",
       "    </tr>\n",
       "  </thead>\n",
       "  <tbody>\n",
       "    <tr>\n",
       "      <th>A0R559</th>\n",
       "      <td>0.1375</td>\n",
       "      <td>0.0500</td>\n",
       "      <td>0.1250</td>\n",
       "      <td>0.0250</td>\n",
       "      <td>0.0250</td>\n",
       "      <td>0.1500</td>\n",
       "      <td>0.0375</td>\n",
       "      <td>0.0375</td>\n",
       "      <td>0.0000</td>\n",
       "      <td>0.1250</td>\n",
       "      <td>...</td>\n",
       "      <td>0.66218</td>\n",
       "      <td>0.49475</td>\n",
       "      <td>0.48147</td>\n",
       "      <td>0.60707</td>\n",
       "      <td>0.57762</td>\n",
       "      <td>0.43417</td>\n",
       "      <td>0.53013</td>\n",
       "      <td>0.56064</td>\n",
       "      <td>0.50991</td>\n",
       "      <td>0.65702</td>\n",
       "    </tr>\n",
       "    <tr>\n",
       "      <th>A1A2B5</th>\n",
       "      <td>0.1375</td>\n",
       "      <td>0.0000</td>\n",
       "      <td>0.0875</td>\n",
       "      <td>0.0500</td>\n",
       "      <td>0.0500</td>\n",
       "      <td>0.0875</td>\n",
       "      <td>0.0250</td>\n",
       "      <td>0.0375</td>\n",
       "      <td>0.0250</td>\n",
       "      <td>0.0875</td>\n",
       "      <td>...</td>\n",
       "      <td>0.51042</td>\n",
       "      <td>0.43465</td>\n",
       "      <td>0.48638</td>\n",
       "      <td>0.43520</td>\n",
       "      <td>0.50230</td>\n",
       "      <td>0.48996</td>\n",
       "      <td>0.57072</td>\n",
       "      <td>0.60663</td>\n",
       "      <td>0.58982</td>\n",
       "      <td>0.58493</td>\n",
       "    </tr>\n",
       "    <tr>\n",
       "      <th>A1AFW1</th>\n",
       "      <td>0.1250</td>\n",
       "      <td>0.0000</td>\n",
       "      <td>0.0625</td>\n",
       "      <td>0.0250</td>\n",
       "      <td>0.0250</td>\n",
       "      <td>0.1250</td>\n",
       "      <td>0.0250</td>\n",
       "      <td>0.0500</td>\n",
       "      <td>0.0750</td>\n",
       "      <td>0.0875</td>\n",
       "      <td>...</td>\n",
       "      <td>0.59517</td>\n",
       "      <td>0.68371</td>\n",
       "      <td>0.71606</td>\n",
       "      <td>0.34655</td>\n",
       "      <td>0.44717</td>\n",
       "      <td>0.50995</td>\n",
       "      <td>0.59692</td>\n",
       "      <td>0.37423</td>\n",
       "      <td>0.59176</td>\n",
       "      <td>0.58153</td>\n",
       "    </tr>\n",
       "    <tr>\n",
       "      <th>A2QLK4</th>\n",
       "      <td>0.0750</td>\n",
       "      <td>0.0000</td>\n",
       "      <td>0.1500</td>\n",
       "      <td>0.0625</td>\n",
       "      <td>0.0000</td>\n",
       "      <td>0.2000</td>\n",
       "      <td>0.0625</td>\n",
       "      <td>0.0000</td>\n",
       "      <td>0.0000</td>\n",
       "      <td>0.0000</td>\n",
       "      <td>...</td>\n",
       "      <td>0.46594</td>\n",
       "      <td>0.33616</td>\n",
       "      <td>0.52610</td>\n",
       "      <td>0.51987</td>\n",
       "      <td>0.53481</td>\n",
       "      <td>0.63286</td>\n",
       "      <td>0.54009</td>\n",
       "      <td>0.80863</td>\n",
       "      <td>0.40144</td>\n",
       "      <td>0.12138</td>\n",
       "    </tr>\n",
       "    <tr>\n",
       "      <th>A3FMN7</th>\n",
       "      <td>0.0625</td>\n",
       "      <td>0.0375</td>\n",
       "      <td>0.0750</td>\n",
       "      <td>0.0750</td>\n",
       "      <td>0.0625</td>\n",
       "      <td>0.0500</td>\n",
       "      <td>0.0125</td>\n",
       "      <td>0.1000</td>\n",
       "      <td>0.0875</td>\n",
       "      <td>0.0875</td>\n",
       "      <td>...</td>\n",
       "      <td>0.50774</td>\n",
       "      <td>0.92986</td>\n",
       "      <td>0.65366</td>\n",
       "      <td>0.39101</td>\n",
       "      <td>0.34645</td>\n",
       "      <td>0.33316</td>\n",
       "      <td>0.36020</td>\n",
       "      <td>0.68694</td>\n",
       "      <td>0.63613</td>\n",
       "      <td>0.54405</td>\n",
       "    </tr>\n",
       "    <tr>\n",
       "      <th>...</th>\n",
       "      <td>...</td>\n",
       "      <td>...</td>\n",
       "      <td>...</td>\n",
       "      <td>...</td>\n",
       "      <td>...</td>\n",
       "      <td>...</td>\n",
       "      <td>...</td>\n",
       "      <td>...</td>\n",
       "      <td>...</td>\n",
       "      <td>...</td>\n",
       "      <td>...</td>\n",
       "      <td>...</td>\n",
       "      <td>...</td>\n",
       "      <td>...</td>\n",
       "      <td>...</td>\n",
       "      <td>...</td>\n",
       "      <td>...</td>\n",
       "      <td>...</td>\n",
       "      <td>...</td>\n",
       "      <td>...</td>\n",
       "      <td>...</td>\n",
       "    </tr>\n",
       "    <tr>\n",
       "      <th>Q9ZGH3</th>\n",
       "      <td>0.1375</td>\n",
       "      <td>0.0000</td>\n",
       "      <td>0.1000</td>\n",
       "      <td>0.0250</td>\n",
       "      <td>0.0375</td>\n",
       "      <td>0.1125</td>\n",
       "      <td>0.0250</td>\n",
       "      <td>0.0500</td>\n",
       "      <td>0.0000</td>\n",
       "      <td>0.1375</td>\n",
       "      <td>...</td>\n",
       "      <td>0.69375</td>\n",
       "      <td>0.47668</td>\n",
       "      <td>0.56558</td>\n",
       "      <td>0.52022</td>\n",
       "      <td>0.56425</td>\n",
       "      <td>0.46340</td>\n",
       "      <td>0.55276</td>\n",
       "      <td>0.45878</td>\n",
       "      <td>0.59271</td>\n",
       "      <td>0.65143</td>\n",
       "    </tr>\n",
       "    <tr>\n",
       "      <th>Q9ZGI2</th>\n",
       "      <td>0.1000</td>\n",
       "      <td>0.0125</td>\n",
       "      <td>0.0875</td>\n",
       "      <td>0.1250</td>\n",
       "      <td>0.0125</td>\n",
       "      <td>0.0625</td>\n",
       "      <td>0.0000</td>\n",
       "      <td>0.0375</td>\n",
       "      <td>0.0375</td>\n",
       "      <td>0.0750</td>\n",
       "      <td>...</td>\n",
       "      <td>0.42579</td>\n",
       "      <td>0.62270</td>\n",
       "      <td>0.64493</td>\n",
       "      <td>0.44850</td>\n",
       "      <td>0.39072</td>\n",
       "      <td>0.64735</td>\n",
       "      <td>0.53685</td>\n",
       "      <td>0.59001</td>\n",
       "      <td>0.47333</td>\n",
       "      <td>0.45970</td>\n",
       "    </tr>\n",
       "    <tr>\n",
       "      <th>Q9ZHG9</th>\n",
       "      <td>0.1250</td>\n",
       "      <td>0.0000</td>\n",
       "      <td>0.0375</td>\n",
       "      <td>0.0375</td>\n",
       "      <td>0.0625</td>\n",
       "      <td>0.0750</td>\n",
       "      <td>0.0250</td>\n",
       "      <td>0.0750</td>\n",
       "      <td>0.0125</td>\n",
       "      <td>0.1000</td>\n",
       "      <td>...</td>\n",
       "      <td>0.45215</td>\n",
       "      <td>0.51367</td>\n",
       "      <td>0.49303</td>\n",
       "      <td>0.55548</td>\n",
       "      <td>0.67524</td>\n",
       "      <td>0.46675</td>\n",
       "      <td>0.44291</td>\n",
       "      <td>0.59356</td>\n",
       "      <td>0.58672</td>\n",
       "      <td>0.62366</td>\n",
       "    </tr>\n",
       "    <tr>\n",
       "      <th>Q9ZIV5</th>\n",
       "      <td>0.1625</td>\n",
       "      <td>0.0000</td>\n",
       "      <td>0.0500</td>\n",
       "      <td>0.0875</td>\n",
       "      <td>0.0125</td>\n",
       "      <td>0.0625</td>\n",
       "      <td>0.0375</td>\n",
       "      <td>0.1125</td>\n",
       "      <td>0.0375</td>\n",
       "      <td>0.0500</td>\n",
       "      <td>...</td>\n",
       "      <td>0.22205</td>\n",
       "      <td>0.62201</td>\n",
       "      <td>0.54431</td>\n",
       "      <td>0.62711</td>\n",
       "      <td>0.46601</td>\n",
       "      <td>0.47206</td>\n",
       "      <td>0.30005</td>\n",
       "      <td>0.49910</td>\n",
       "      <td>0.51422</td>\n",
       "      <td>0.52903</td>\n",
       "    </tr>\n",
       "    <tr>\n",
       "      <th>Q9ZLT0</th>\n",
       "      <td>0.0875</td>\n",
       "      <td>0.0125</td>\n",
       "      <td>0.0625</td>\n",
       "      <td>0.0750</td>\n",
       "      <td>0.0750</td>\n",
       "      <td>0.0875</td>\n",
       "      <td>0.0125</td>\n",
       "      <td>0.0750</td>\n",
       "      <td>0.0750</td>\n",
       "      <td>0.1250</td>\n",
       "      <td>...</td>\n",
       "      <td>0.36412</td>\n",
       "      <td>0.40925</td>\n",
       "      <td>0.60448</td>\n",
       "      <td>0.36399</td>\n",
       "      <td>0.37242</td>\n",
       "      <td>0.34272</td>\n",
       "      <td>0.34191</td>\n",
       "      <td>0.49096</td>\n",
       "      <td>0.67417</td>\n",
       "      <td>0.64164</td>\n",
       "    </tr>\n",
       "  </tbody>\n",
       "</table>\n",
       "<p>3348 rows × 1290 columns</p>\n",
       "</div>"
      ],
      "text/plain": [
       "        [G1.1.1.10]  [G1.1.1.11]  [G1.1.1.12]  [G1.1.1.13]  [G1.1.1.14]  \\\n",
       "A0R559       0.1375       0.0500       0.1250       0.0250       0.0250   \n",
       "A1A2B5       0.1375       0.0000       0.0875       0.0500       0.0500   \n",
       "A1AFW1       0.1250       0.0000       0.0625       0.0250       0.0250   \n",
       "A2QLK4       0.0750       0.0000       0.1500       0.0625       0.0000   \n",
       "A3FMN7       0.0625       0.0375       0.0750       0.0750       0.0625   \n",
       "...             ...          ...          ...          ...          ...   \n",
       "Q9ZGH3       0.1375       0.0000       0.1000       0.0250       0.0375   \n",
       "Q9ZGI2       0.1000       0.0125       0.0875       0.1250       0.0125   \n",
       "Q9ZHG9       0.1250       0.0000       0.0375       0.0375       0.0625   \n",
       "Q9ZIV5       0.1625       0.0000       0.0500       0.0875       0.0125   \n",
       "Q9ZLT0       0.0875       0.0125       0.0625       0.0750       0.0750   \n",
       "\n",
       "        [G1.1.1.15]  [G1.1.1.16]  [G1.1.1.17]  [G1.1.1.18]  [G1.1.1.19]  ...  \\\n",
       "A0R559       0.1500       0.0375       0.0375       0.0000       0.1250  ...   \n",
       "A1A2B5       0.0875       0.0250       0.0375       0.0250       0.0875  ...   \n",
       "A1AFW1       0.1250       0.0250       0.0500       0.0750       0.0875  ...   \n",
       "A2QLK4       0.2000       0.0625       0.0000       0.0000       0.0000  ...   \n",
       "A3FMN7       0.0500       0.0125       0.1000       0.0875       0.0875  ...   \n",
       "...             ...          ...          ...          ...          ...  ...   \n",
       "Q9ZGH3       0.1125       0.0250       0.0500       0.0000       0.1375  ...   \n",
       "Q9ZGI2       0.0625       0.0000       0.0375       0.0375       0.0750  ...   \n",
       "Q9ZHG9       0.0750       0.0250       0.0750       0.0125       0.1000  ...   \n",
       "Q9ZIV5       0.0625       0.0375       0.1125       0.0375       0.0500  ...   \n",
       "Q9ZLT0       0.0875       0.0125       0.0750       0.0750       0.1250  ...   \n",
       "\n",
       "        [G7.1.1.77]  [G7.1.1.78]  [G7.1.1.79]  [G7.1.1.7]  [G7.1.1.80]  \\\n",
       "A0R559      0.66218      0.49475      0.48147     0.60707      0.57762   \n",
       "A1A2B5      0.51042      0.43465      0.48638     0.43520      0.50230   \n",
       "A1AFW1      0.59517      0.68371      0.71606     0.34655      0.44717   \n",
       "A2QLK4      0.46594      0.33616      0.52610     0.51987      0.53481   \n",
       "A3FMN7      0.50774      0.92986      0.65366     0.39101      0.34645   \n",
       "...             ...          ...          ...         ...          ...   \n",
       "Q9ZGH3      0.69375      0.47668      0.56558     0.52022      0.56425   \n",
       "Q9ZGI2      0.42579      0.62270      0.64493     0.44850      0.39072   \n",
       "Q9ZHG9      0.45215      0.51367      0.49303     0.55548      0.67524   \n",
       "Q9ZIV5      0.22205      0.62201      0.54431     0.62711      0.46601   \n",
       "Q9ZLT0      0.36412      0.40925      0.60448     0.36399      0.37242   \n",
       "\n",
       "        [G7.1.1.8]  [G7.1.1.9]   [G9.1]   [G9.2]   [G9.3]  \n",
       "A0R559     0.43417     0.53013  0.56064  0.50991  0.65702  \n",
       "A1A2B5     0.48996     0.57072  0.60663  0.58982  0.58493  \n",
       "A1AFW1     0.50995     0.59692  0.37423  0.59176  0.58153  \n",
       "A2QLK4     0.63286     0.54009  0.80863  0.40144  0.12138  \n",
       "A3FMN7     0.33316     0.36020  0.68694  0.63613  0.54405  \n",
       "...            ...         ...      ...      ...      ...  \n",
       "Q9ZGH3     0.46340     0.55276  0.45878  0.59271  0.65143  \n",
       "Q9ZGI2     0.64735     0.53685  0.59001  0.47333  0.45970  \n",
       "Q9ZHG9     0.46675     0.44291  0.59356  0.58672  0.62366  \n",
       "Q9ZIV5     0.47206     0.30005  0.49910  0.51422  0.52903  \n",
       "Q9ZLT0     0.34272     0.34191  0.49096  0.67417  0.64164  \n",
       "\n",
       "[3348 rows x 1290 columns]"
      ]
     },
     "execution_count": 7,
     "metadata": {},
     "output_type": "execute_result"
    }
   ],
   "source": [
    "target"
   ]
  },
  {
   "cell_type": "code",
   "execution_count": 8,
   "metadata": {},
   "outputs": [
    {
     "data": {
      "text/html": [
       "<div>\n",
       "<style scoped>\n",
       "    .dataframe tbody tr th:only-of-type {\n",
       "        vertical-align: middle;\n",
       "    }\n",
       "\n",
       "    .dataframe tbody tr th {\n",
       "        vertical-align: top;\n",
       "    }\n",
       "\n",
       "    .dataframe thead th {\n",
       "        text-align: right;\n",
       "    }\n",
       "</style>\n",
       "<table border=\"1\" class=\"dataframe\">\n",
       "  <thead>\n",
       "    <tr style=\"text-align: right;\">\n",
       "      <th></th>\n",
       "      <th>A0R559</th>\n",
       "      <th>A1A2B5</th>\n",
       "      <th>A1AFW1</th>\n",
       "      <th>A2QLK4</th>\n",
       "      <th>A3FMN7</th>\n",
       "      <th>A5W4F4</th>\n",
       "      <th>A7B6P0</th>\n",
       "      <th>A7J8L3</th>\n",
       "      <th>A8MPY1</th>\n",
       "      <th>A9CJ63</th>\n",
       "      <th>...</th>\n",
       "      <th>Q9Z9H6</th>\n",
       "      <th>Q9ZAG3</th>\n",
       "      <th>Q9ZB17</th>\n",
       "      <th>Q9ZEU2</th>\n",
       "      <th>Q9ZF99</th>\n",
       "      <th>Q9ZGH3</th>\n",
       "      <th>Q9ZGI2</th>\n",
       "      <th>Q9ZHG9</th>\n",
       "      <th>Q9ZIV5</th>\n",
       "      <th>Q9ZLT0</th>\n",
       "    </tr>\n",
       "  </thead>\n",
       "  <tbody>\n",
       "    <tr>\n",
       "      <th>DB00014</th>\n",
       "      <td>0</td>\n",
       "      <td>0</td>\n",
       "      <td>0</td>\n",
       "      <td>0</td>\n",
       "      <td>0</td>\n",
       "      <td>0</td>\n",
       "      <td>0</td>\n",
       "      <td>0</td>\n",
       "      <td>0</td>\n",
       "      <td>0</td>\n",
       "      <td>...</td>\n",
       "      <td>0</td>\n",
       "      <td>0</td>\n",
       "      <td>0</td>\n",
       "      <td>0</td>\n",
       "      <td>0</td>\n",
       "      <td>0</td>\n",
       "      <td>0</td>\n",
       "      <td>0</td>\n",
       "      <td>0</td>\n",
       "      <td>0</td>\n",
       "    </tr>\n",
       "    <tr>\n",
       "      <th>DB00035</th>\n",
       "      <td>0</td>\n",
       "      <td>0</td>\n",
       "      <td>0</td>\n",
       "      <td>0</td>\n",
       "      <td>0</td>\n",
       "      <td>0</td>\n",
       "      <td>0</td>\n",
       "      <td>0</td>\n",
       "      <td>0</td>\n",
       "      <td>0</td>\n",
       "      <td>...</td>\n",
       "      <td>0</td>\n",
       "      <td>0</td>\n",
       "      <td>0</td>\n",
       "      <td>0</td>\n",
       "      <td>0</td>\n",
       "      <td>0</td>\n",
       "      <td>0</td>\n",
       "      <td>0</td>\n",
       "      <td>0</td>\n",
       "      <td>0</td>\n",
       "    </tr>\n",
       "    <tr>\n",
       "      <th>DB00050</th>\n",
       "      <td>0</td>\n",
       "      <td>0</td>\n",
       "      <td>0</td>\n",
       "      <td>0</td>\n",
       "      <td>0</td>\n",
       "      <td>0</td>\n",
       "      <td>0</td>\n",
       "      <td>0</td>\n",
       "      <td>0</td>\n",
       "      <td>0</td>\n",
       "      <td>...</td>\n",
       "      <td>0</td>\n",
       "      <td>0</td>\n",
       "      <td>0</td>\n",
       "      <td>0</td>\n",
       "      <td>0</td>\n",
       "      <td>0</td>\n",
       "      <td>0</td>\n",
       "      <td>0</td>\n",
       "      <td>0</td>\n",
       "      <td>0</td>\n",
       "    </tr>\n",
       "    <tr>\n",
       "      <th>DB00091</th>\n",
       "      <td>0</td>\n",
       "      <td>0</td>\n",
       "      <td>0</td>\n",
       "      <td>0</td>\n",
       "      <td>0</td>\n",
       "      <td>0</td>\n",
       "      <td>0</td>\n",
       "      <td>0</td>\n",
       "      <td>0</td>\n",
       "      <td>0</td>\n",
       "      <td>...</td>\n",
       "      <td>0</td>\n",
       "      <td>0</td>\n",
       "      <td>0</td>\n",
       "      <td>0</td>\n",
       "      <td>0</td>\n",
       "      <td>0</td>\n",
       "      <td>0</td>\n",
       "      <td>0</td>\n",
       "      <td>0</td>\n",
       "      <td>0</td>\n",
       "    </tr>\n",
       "    <tr>\n",
       "      <th>DB00093</th>\n",
       "      <td>0</td>\n",
       "      <td>0</td>\n",
       "      <td>0</td>\n",
       "      <td>0</td>\n",
       "      <td>0</td>\n",
       "      <td>0</td>\n",
       "      <td>0</td>\n",
       "      <td>0</td>\n",
       "      <td>0</td>\n",
       "      <td>0</td>\n",
       "      <td>...</td>\n",
       "      <td>0</td>\n",
       "      <td>0</td>\n",
       "      <td>0</td>\n",
       "      <td>0</td>\n",
       "      <td>0</td>\n",
       "      <td>0</td>\n",
       "      <td>0</td>\n",
       "      <td>0</td>\n",
       "      <td>0</td>\n",
       "      <td>0</td>\n",
       "    </tr>\n",
       "    <tr>\n",
       "      <th>...</th>\n",
       "      <td>...</td>\n",
       "      <td>...</td>\n",
       "      <td>...</td>\n",
       "      <td>...</td>\n",
       "      <td>...</td>\n",
       "      <td>...</td>\n",
       "      <td>...</td>\n",
       "      <td>...</td>\n",
       "      <td>...</td>\n",
       "      <td>...</td>\n",
       "      <td>...</td>\n",
       "      <td>...</td>\n",
       "      <td>...</td>\n",
       "      <td>...</td>\n",
       "      <td>...</td>\n",
       "      <td>...</td>\n",
       "      <td>...</td>\n",
       "      <td>...</td>\n",
       "      <td>...</td>\n",
       "      <td>...</td>\n",
       "      <td>...</td>\n",
       "    </tr>\n",
       "    <tr>\n",
       "      <th>DB09202</th>\n",
       "      <td>0</td>\n",
       "      <td>0</td>\n",
       "      <td>0</td>\n",
       "      <td>0</td>\n",
       "      <td>0</td>\n",
       "      <td>0</td>\n",
       "      <td>0</td>\n",
       "      <td>0</td>\n",
       "      <td>0</td>\n",
       "      <td>0</td>\n",
       "      <td>...</td>\n",
       "      <td>0</td>\n",
       "      <td>0</td>\n",
       "      <td>0</td>\n",
       "      <td>0</td>\n",
       "      <td>0</td>\n",
       "      <td>0</td>\n",
       "      <td>0</td>\n",
       "      <td>0</td>\n",
       "      <td>0</td>\n",
       "      <td>0</td>\n",
       "    </tr>\n",
       "    <tr>\n",
       "      <th>DB09207</th>\n",
       "      <td>0</td>\n",
       "      <td>0</td>\n",
       "      <td>0</td>\n",
       "      <td>0</td>\n",
       "      <td>0</td>\n",
       "      <td>0</td>\n",
       "      <td>0</td>\n",
       "      <td>0</td>\n",
       "      <td>0</td>\n",
       "      <td>0</td>\n",
       "      <td>...</td>\n",
       "      <td>0</td>\n",
       "      <td>0</td>\n",
       "      <td>0</td>\n",
       "      <td>0</td>\n",
       "      <td>0</td>\n",
       "      <td>0</td>\n",
       "      <td>0</td>\n",
       "      <td>0</td>\n",
       "      <td>0</td>\n",
       "      <td>0</td>\n",
       "    </tr>\n",
       "    <tr>\n",
       "      <th>DB09217</th>\n",
       "      <td>0</td>\n",
       "      <td>0</td>\n",
       "      <td>0</td>\n",
       "      <td>0</td>\n",
       "      <td>0</td>\n",
       "      <td>0</td>\n",
       "      <td>0</td>\n",
       "      <td>0</td>\n",
       "      <td>0</td>\n",
       "      <td>0</td>\n",
       "      <td>...</td>\n",
       "      <td>0</td>\n",
       "      <td>0</td>\n",
       "      <td>0</td>\n",
       "      <td>0</td>\n",
       "      <td>0</td>\n",
       "      <td>0</td>\n",
       "      <td>0</td>\n",
       "      <td>0</td>\n",
       "      <td>0</td>\n",
       "      <td>0</td>\n",
       "    </tr>\n",
       "    <tr>\n",
       "      <th>DB09242</th>\n",
       "      <td>0</td>\n",
       "      <td>0</td>\n",
       "      <td>0</td>\n",
       "      <td>0</td>\n",
       "      <td>0</td>\n",
       "      <td>0</td>\n",
       "      <td>0</td>\n",
       "      <td>0</td>\n",
       "      <td>0</td>\n",
       "      <td>0</td>\n",
       "      <td>...</td>\n",
       "      <td>0</td>\n",
       "      <td>0</td>\n",
       "      <td>0</td>\n",
       "      <td>0</td>\n",
       "      <td>0</td>\n",
       "      <td>0</td>\n",
       "      <td>0</td>\n",
       "      <td>0</td>\n",
       "      <td>0</td>\n",
       "      <td>0</td>\n",
       "    </tr>\n",
       "    <tr>\n",
       "      <th>DB09272</th>\n",
       "      <td>0</td>\n",
       "      <td>0</td>\n",
       "      <td>0</td>\n",
       "      <td>0</td>\n",
       "      <td>0</td>\n",
       "      <td>0</td>\n",
       "      <td>0</td>\n",
       "      <td>0</td>\n",
       "      <td>0</td>\n",
       "      <td>0</td>\n",
       "      <td>...</td>\n",
       "      <td>0</td>\n",
       "      <td>0</td>\n",
       "      <td>0</td>\n",
       "      <td>0</td>\n",
       "      <td>0</td>\n",
       "      <td>0</td>\n",
       "      <td>0</td>\n",
       "      <td>0</td>\n",
       "      <td>0</td>\n",
       "      <td>0</td>\n",
       "    </tr>\n",
       "  </tbody>\n",
       "</table>\n",
       "<p>5877 rows × 3348 columns</p>\n",
       "</div>"
      ],
      "text/plain": [
       "         A0R559  A1A2B5  A1AFW1  A2QLK4  A3FMN7  A5W4F4  A7B6P0  A7J8L3  \\\n",
       "DB00014       0       0       0       0       0       0       0       0   \n",
       "DB00035       0       0       0       0       0       0       0       0   \n",
       "DB00050       0       0       0       0       0       0       0       0   \n",
       "DB00091       0       0       0       0       0       0       0       0   \n",
       "DB00093       0       0       0       0       0       0       0       0   \n",
       "...         ...     ...     ...     ...     ...     ...     ...     ...   \n",
       "DB09202       0       0       0       0       0       0       0       0   \n",
       "DB09207       0       0       0       0       0       0       0       0   \n",
       "DB09217       0       0       0       0       0       0       0       0   \n",
       "DB09242       0       0       0       0       0       0       0       0   \n",
       "DB09272       0       0       0       0       0       0       0       0   \n",
       "\n",
       "         A8MPY1  A9CJ63  ...  Q9Z9H6  Q9ZAG3  Q9ZB17  Q9ZEU2  Q9ZF99  Q9ZGH3  \\\n",
       "DB00014       0       0  ...       0       0       0       0       0       0   \n",
       "DB00035       0       0  ...       0       0       0       0       0       0   \n",
       "DB00050       0       0  ...       0       0       0       0       0       0   \n",
       "DB00091       0       0  ...       0       0       0       0       0       0   \n",
       "DB00093       0       0  ...       0       0       0       0       0       0   \n",
       "...         ...     ...  ...     ...     ...     ...     ...     ...     ...   \n",
       "DB09202       0       0  ...       0       0       0       0       0       0   \n",
       "DB09207       0       0  ...       0       0       0       0       0       0   \n",
       "DB09217       0       0  ...       0       0       0       0       0       0   \n",
       "DB09242       0       0  ...       0       0       0       0       0       0   \n",
       "DB09272       0       0  ...       0       0       0       0       0       0   \n",
       "\n",
       "         Q9ZGI2  Q9ZHG9  Q9ZIV5  Q9ZLT0  \n",
       "DB00014       0       0       0       0  \n",
       "DB00035       0       0       0       0  \n",
       "DB00050       0       0       0       0  \n",
       "DB00091       0       0       0       0  \n",
       "DB00093       0       0       0       0  \n",
       "...         ...     ...     ...     ...  \n",
       "DB09202       0       0       0       0  \n",
       "DB09207       0       0       0       0  \n",
       "DB09217       0       0       0       0  \n",
       "DB09242       0       0       0       0  \n",
       "DB09272       0       0       0       0  \n",
       "\n",
       "[5877 rows x 3348 columns]"
      ]
     },
     "execution_count": 8,
     "metadata": {},
     "output_type": "execute_result"
    }
   ],
   "source": [
    "interactions"
   ]
  },
  {
   "cell_type": "markdown",
   "metadata": {},
   "source": [
    "All values have been normalized according to their column. There are 5844 drugs with 193 features, 3348 targets (proteins) with 1290 features and the Drug-Target Interaction matrix has drugs on the rows and targets on the columns with 1 indicating interaction. Although 0 doesn't necessarily mean that there is no interaction, a large proportion of interactions labeled no interaction will truly have no interaction, hence we will treat all 0 and no interaction. "
   ]
  },
  {
   "cell_type": "code",
   "execution_count": 9,
   "metadata": {},
   "outputs": [
    {
     "data": {
      "text/plain": [
       "((5877, 193), (3348, 1290), (5877, 3348))"
      ]
     },
     "execution_count": 9,
     "metadata": {},
     "output_type": "execute_result"
    }
   ],
   "source": [
    "drug.shape,target.shape,interactions.shape"
   ]
  },
  {
   "cell_type": "markdown",
   "metadata": {},
   "source": [
    "## Dimensionality Reduction"
   ]
  },
  {
   "cell_type": "markdown",
   "metadata": {},
   "source": [
    "Dimensionality Reduction will be carried out on both drug and target matrices with no. components chosen to maintain at least 95% variance. Singular Value Decomposition is often used to solve the \"curse of dimensionality\". SVD is a projection method that projects the data onto a lower-dimensional space while also preserving the most important relationships in the original data by preserving the components of the highest variance. "
   ]
  },
  {
   "cell_type": "code",
   "execution_count": 10,
   "metadata": {},
   "outputs": [],
   "source": [
    "from sklearn.decomposition import TruncatedSVD\n",
    "from scipy.sparse import csr_matrix\n",
    "\n",
    "# Make sparse matrix\n",
    "drug_sparse = csr_matrix(drug)\n",
    "target_sparse = csr_matrix(target)"
   ]
  },
  {
   "cell_type": "code",
   "execution_count": 11,
   "metadata": {},
   "outputs": [],
   "source": [
    "tsvd = TruncatedSVD(n_components=drug_sparse.shape[1]-1)\n",
    "drug_tsvd = tsvd.fit(drug)\n",
    "tsvd_2 = TruncatedSVD(n_components=target_sparse.shape[1]-1)\n",
    "target_tsvd = tsvd_2.fit(target)\n",
    "tsvd_var_ratios = tsvd.explained_variance_ratio_\n",
    "tsvd_2_var_ratios = tsvd_2.explained_variance_ratio_\n",
    "var_explained = tsvd.explained_variance_ratio_.sum()\n",
    "var_2_explained = tsvd_2.explained_variance_ratio_.sum()"
   ]
  },
  {
   "cell_type": "code",
   "execution_count": 12,
   "metadata": {},
   "outputs": [],
   "source": [
    "def select_n_components(var_ratio, goal_var: float) -> int:\n",
    "    # Set initial variance explained so far\n",
    "    total_variance = 0.0\n",
    "    \n",
    "    # Set initial number of features\n",
    "    n_components = 0\n",
    "    \n",
    "    # For the explained variance of each feature:\n",
    "    for explained_variance in var_ratio:\n",
    "        \n",
    "        # Add the explained variance to the total\n",
    "        total_variance += explained_variance\n",
    "        \n",
    "        # Add one to the number of components\n",
    "        n_components += 1\n",
    "        \n",
    "        # If we reach our goal level of explained variance\n",
    "        if total_variance >= goal_var:\n",
    "            # End the loop\n",
    "            break\n",
    "            \n",
    "    # Return the number of components\n",
    "    return n_components"
   ]
  },
  {
   "cell_type": "code",
   "execution_count": 13,
   "metadata": {},
   "outputs": [
    {
     "data": {
      "text/plain": [
       "56"
      ]
     },
     "execution_count": 13,
     "metadata": {},
     "output_type": "execute_result"
    }
   ],
   "source": [
    "select_n_components (tsvd_var_ratios,0.95)"
   ]
  },
  {
   "cell_type": "code",
   "execution_count": 14,
   "metadata": {},
   "outputs": [
    {
     "data": {
      "text/plain": [
       "222"
      ]
     },
     "execution_count": 14,
     "metadata": {},
     "output_type": "execute_result"
    }
   ],
   "source": [
    "select_n_components (tsvd_2_var_ratios,0.95)"
   ]
  },
  {
   "cell_type": "code",
   "execution_count": 15,
   "metadata": {},
   "outputs": [
    {
     "name": "stdout",
     "output_type": "stream",
     "text": [
      "0.9520175860658526\n",
      "0.9499224241076847\n"
     ]
    }
   ],
   "source": [
    "tsvd_drug = TruncatedSVD(n_components=56)\n",
    "drug_reduced = tsvd_drug.fit_transform(drug)\n",
    "\n",
    "tsvd_target = TruncatedSVD(n_components=222)\n",
    "target_reduced = tsvd_target.fit_transform(target)\n",
    "\n",
    "print (tsvd_drug.explained_variance_ratio_.sum())\n",
    "print (tsvd_target.explained_variance_ratio_.sum())\n"
   ]
  },
  {
   "cell_type": "markdown",
   "metadata": {},
   "source": [
    "The reduced target and drug arrays are as below, with drug having 67 components and target having 273\n",
    "components"
   ]
  },
  {
   "cell_type": "code",
   "execution_count": 16,
   "metadata": {},
   "outputs": [
    {
     "name": "stdout",
     "output_type": "stream",
     "text": [
      "3348 222\n",
      "5877 56\n"
     ]
    }
   ],
   "source": [
    "print(len(target_reduced),len(target_reduced[1]))\n",
    "print(len(drug_reduced),len(drug_reduced[1]))"
   ]
  },
  {
   "cell_type": "markdown",
   "metadata": {},
   "source": [
    "## Create Training instances (drug-target)"
   ]
  },
  {
   "cell_type": "code",
   "execution_count": 17,
   "metadata": {},
   "outputs": [],
   "source": [
    "interactions_arr = interactions.to_numpy()"
   ]
  },
  {
   "cell_type": "code",
   "execution_count": 18,
   "metadata": {},
   "outputs": [],
   "source": [
    "target_feats, drug_feats = [], []\n",
    "target_name, drug_name , outputs = [], [], []\n",
    "\n",
    "for drug_idx, drug_ID in enumerate(drug_ID_list):\n",
    "    for target_idx, target_ID in enumerate(target_ID_list):\n",
    "        drug_name.append(drug_ID)\n",
    "        target_name.append(target_ID)\n",
    "        outputs.append(interactions_arr[drug_idx, target_idx])\n",
    "        target_feats.append(target_reduced[target_idx])\n",
    "        drug_feats.append(drug_reduced[drug_idx])"
   ]
  },
  {
   "cell_type": "code",
   "execution_count": 19,
   "metadata": {
    "scrolled": true
   },
   "outputs": [
    {
     "data": {
      "text/html": [
       "<div>\n",
       "<style scoped>\n",
       "    .dataframe tbody tr th:only-of-type {\n",
       "        vertical-align: middle;\n",
       "    }\n",
       "\n",
       "    .dataframe tbody tr th {\n",
       "        vertical-align: top;\n",
       "    }\n",
       "\n",
       "    .dataframe thead th {\n",
       "        text-align: right;\n",
       "    }\n",
       "</style>\n",
       "<table border=\"1\" class=\"dataframe\">\n",
       "  <thead>\n",
       "    <tr style=\"text-align: right;\">\n",
       "      <th></th>\n",
       "      <th>Drug</th>\n",
       "      <th>Target</th>\n",
       "      <th>Interactions</th>\n",
       "    </tr>\n",
       "  </thead>\n",
       "  <tbody>\n",
       "    <tr>\n",
       "      <th>0</th>\n",
       "      <td>DB00014</td>\n",
       "      <td>A0R559</td>\n",
       "      <td>0</td>\n",
       "    </tr>\n",
       "    <tr>\n",
       "      <th>1</th>\n",
       "      <td>DB00014</td>\n",
       "      <td>A1A2B5</td>\n",
       "      <td>0</td>\n",
       "    </tr>\n",
       "    <tr>\n",
       "      <th>2</th>\n",
       "      <td>DB00014</td>\n",
       "      <td>A1AFW1</td>\n",
       "      <td>0</td>\n",
       "    </tr>\n",
       "    <tr>\n",
       "      <th>3</th>\n",
       "      <td>DB00014</td>\n",
       "      <td>A2QLK4</td>\n",
       "      <td>0</td>\n",
       "    </tr>\n",
       "    <tr>\n",
       "      <th>4</th>\n",
       "      <td>DB00014</td>\n",
       "      <td>A3FMN7</td>\n",
       "      <td>0</td>\n",
       "    </tr>\n",
       "    <tr>\n",
       "      <th>...</th>\n",
       "      <td>...</td>\n",
       "      <td>...</td>\n",
       "      <td>...</td>\n",
       "    </tr>\n",
       "    <tr>\n",
       "      <th>19676191</th>\n",
       "      <td>DB09272</td>\n",
       "      <td>Q9ZGH3</td>\n",
       "      <td>0</td>\n",
       "    </tr>\n",
       "    <tr>\n",
       "      <th>19676192</th>\n",
       "      <td>DB09272</td>\n",
       "      <td>Q9ZGI2</td>\n",
       "      <td>0</td>\n",
       "    </tr>\n",
       "    <tr>\n",
       "      <th>19676193</th>\n",
       "      <td>DB09272</td>\n",
       "      <td>Q9ZHG9</td>\n",
       "      <td>0</td>\n",
       "    </tr>\n",
       "    <tr>\n",
       "      <th>19676194</th>\n",
       "      <td>DB09272</td>\n",
       "      <td>Q9ZIV5</td>\n",
       "      <td>0</td>\n",
       "    </tr>\n",
       "    <tr>\n",
       "      <th>19676195</th>\n",
       "      <td>DB09272</td>\n",
       "      <td>Q9ZLT0</td>\n",
       "      <td>0</td>\n",
       "    </tr>\n",
       "  </tbody>\n",
       "</table>\n",
       "<p>19676196 rows × 3 columns</p>\n",
       "</div>"
      ],
      "text/plain": [
       "             Drug  Target  Interactions\n",
       "0         DB00014  A0R559             0\n",
       "1         DB00014  A1A2B5             0\n",
       "2         DB00014  A1AFW1             0\n",
       "3         DB00014  A2QLK4             0\n",
       "4         DB00014  A3FMN7             0\n",
       "...           ...     ...           ...\n",
       "19676191  DB09272  Q9ZGH3             0\n",
       "19676192  DB09272  Q9ZGI2             0\n",
       "19676193  DB09272  Q9ZHG9             0\n",
       "19676194  DB09272  Q9ZIV5             0\n",
       "19676195  DB09272  Q9ZLT0             0\n",
       "\n",
       "[19676196 rows x 3 columns]"
      ]
     },
     "execution_count": 19,
     "metadata": {},
     "output_type": "execute_result"
    }
   ],
   "source": [
    "data = pd.DataFrame({'Drug' : drug_name, 'Target' : target_name, \"Interactions\" : outputs})\n",
    "data"
   ]
  },
  {
   "cell_type": "code",
   "execution_count": 20,
   "metadata": {},
   "outputs": [],
   "source": [
    "data_arr=data.to_numpy()"
   ]
  },
  {
   "cell_type": "markdown",
   "metadata": {},
   "source": [
    "Because of the size of the training data, it was impractical to concatenate the data matrix with the corresponding reduced drug and target feature matrices.The target feature vector has 273 features, the drug feature vector has 67 features and are both created to match the drug-target interactions, hence both vectors have 196776196 samples. The drug and target name vectors have been incorporated into the data_arr, hence data_arr has 3 columns. "
   ]
  },
  {
   "cell_type": "code",
   "execution_count": 21,
   "metadata": {},
   "outputs": [
    {
     "name": "stdout",
     "output_type": "stream",
     "text": [
      "19676196 222\n",
      "19676196 56\n",
      "19676196 3\n"
     ]
    }
   ],
   "source": [
    "print(len(target_feats),len(target_feats[1])) # has target features\n",
    "print(len(drug_feats),len(drug_feats[1])) #has drug features\n",
    "print(len(data_arr),len(data_arr[1])) #has drug name, target name and interaction"
   ]
  },
  {
   "cell_type": "markdown",
   "metadata": {},
   "source": [
    "Sanity Check"
   ]
  },
  {
   "cell_type": "code",
   "execution_count": 22,
   "metadata": {},
   "outputs": [
    {
     "data": {
      "text/plain": [
       "array([ True,  True,  True,  True,  True,  True,  True,  True,  True,\n",
       "        True,  True,  True,  True,  True,  True,  True,  True,  True,\n",
       "        True,  True,  True,  True,  True,  True,  True,  True,  True,\n",
       "        True,  True,  True,  True,  True,  True,  True,  True,  True,\n",
       "        True,  True,  True,  True,  True,  True,  True,  True,  True,\n",
       "        True,  True,  True,  True,  True,  True,  True,  True,  True,\n",
       "        True,  True,  True,  True,  True,  True,  True,  True,  True,\n",
       "        True,  True,  True,  True,  True,  True,  True,  True,  True,\n",
       "        True,  True,  True,  True,  True,  True,  True,  True,  True,\n",
       "        True,  True,  True,  True,  True,  True,  True,  True,  True,\n",
       "        True,  True,  True,  True,  True,  True,  True,  True,  True,\n",
       "        True,  True,  True,  True,  True,  True,  True,  True,  True,\n",
       "        True,  True,  True,  True,  True,  True,  True,  True,  True,\n",
       "        True,  True,  True,  True,  True,  True,  True,  True,  True,\n",
       "        True,  True,  True,  True,  True,  True,  True,  True,  True,\n",
       "        True,  True,  True,  True,  True,  True,  True,  True,  True,\n",
       "        True,  True,  True,  True,  True,  True,  True,  True,  True,\n",
       "        True,  True,  True,  True,  True,  True,  True,  True,  True,\n",
       "        True,  True,  True,  True,  True,  True,  True,  True,  True,\n",
       "        True,  True,  True,  True,  True,  True,  True,  True,  True,\n",
       "        True,  True,  True,  True,  True,  True,  True,  True,  True,\n",
       "        True,  True,  True,  True,  True,  True,  True,  True,  True,\n",
       "        True,  True,  True,  True,  True,  True,  True,  True,  True,\n",
       "        True,  True,  True,  True,  True,  True,  True,  True,  True,\n",
       "        True,  True,  True,  True,  True,  True])"
      ]
     },
     "execution_count": 22,
     "metadata": {},
     "output_type": "execute_result"
    }
   ],
   "source": [
    "data_arr[5000] #array(['DB00035', 'P35916', 0], dtype=object)\n",
    "drug.loc[:\"DB00035\"] #second row\n",
    "drug_reduced[1]==drug_feats[5000] \n",
    "target.loc[:\"P35916\"] #1653\n",
    "target_reduced[1652]==target_feats[5000]"
   ]
  },
  {
   "cell_type": "markdown",
   "metadata": {},
   "source": [
    "## Addressing Between-Class bias"
   ]
  },
  {
   "cell_type": "markdown",
   "metadata": {},
   "source": [
    "There are 12674 positive samples and 19663522 negative samples. The highly-imbalanced dataset will bias the model towards a negative interaction. In order to solve this, I will be segmenting the dataset into positive and negative datasets and using the same no of positive and negative samples to train the data."
   ]
  },
  {
   "cell_type": "code",
   "execution_count": 23,
   "metadata": {},
   "outputs": [
    {
     "name": "stdout",
     "output_type": "stream",
     "text": [
      "12674 19663522\n"
     ]
    }
   ],
   "source": [
    "#Positive and negative data on drug, target and interactions\n",
    "positive = data[data[\"Interactions\"]==1] \n",
    "positive_indexes = list(positive.index)\n",
    "negative=data[data[\"Interactions\"]==0]\n",
    "negative_indexes=list(negative.index)\n",
    "print(len(positive),len(negative))\n"
   ]
  },
  {
   "cell_type": "code",
   "execution_count": 24,
   "metadata": {},
   "outputs": [],
   "source": [
    "#Positive data on drug, target features \n",
    "drug_positive, target_positive = [], []\n",
    "for i in positive_indexes:\n",
    "    drug_positive.append(drug_feats[i])\n",
    "    target_positive.append(target_feats[i])"
   ]
  },
  {
   "cell_type": "code",
   "execution_count": 25,
   "metadata": {},
   "outputs": [
    {
     "name": "stdout",
     "output_type": "stream",
     "text": [
      "12674 278\n"
     ]
    }
   ],
   "source": [
    "# Comnbine positive data of drug and target features\n",
    "positive_features= []\n",
    "positive_features=np.concatenate((drug_positive,target_positive),axis=1)\n",
    "print(len(positive_features),len(positive_features[0])) "
   ]
  },
  {
   "cell_type": "code",
   "execution_count": 26,
   "metadata": {},
   "outputs": [
    {
     "name": "stdout",
     "output_type": "stream",
     "text": [
      "12674 3\n"
     ]
    }
   ],
   "source": [
    "#Keep track of drug and target pairs too as well as interaction\n",
    "pos_ID_interaction = []\n",
    "for i in positive_indexes:\n",
    "    pos_ID_interaction.append(data_arr[i])\n",
    "\n",
    "print(len(pos_ID_interaction),len(pos_ID_interaction[0]))"
   ]
  },
  {
   "cell_type": "markdown",
   "metadata": {},
   "source": [
    "There are too many negative_indexes, I will take approximatley 10000000 calculated by if I do a max of 500 estimators. I will randomly choose 600000 negative features. Random.choice is used for sampling without replacement."
   ]
  },
  {
   "cell_type": "code",
   "execution_count": 27,
   "metadata": {},
   "outputs": [
    {
     "data": {
      "text/plain": [
       "True"
      ]
     },
     "execution_count": 27,
     "metadata": {},
     "output_type": "execute_result"
    }
   ],
   "source": [
    "np.random.seed(42)\n",
    "final_neg_indexes = np.random.choice(negative_indexes,size=10000000,replace=False)\n",
    "len(final_neg_indexes) == len(set(final_neg_indexes)) # No duplicates for sanity check"
   ]
  },
  {
   "cell_type": "code",
   "execution_count": 28,
   "metadata": {},
   "outputs": [],
   "source": [
    "#Negative data on drug, target features\n",
    "drug_negative, target_negative = [], []\n",
    "for i in final_neg_indexes:\n",
    "    drug_negative.append(drug_feats[i])\n",
    "    target_negative.append(target_feats[i])"
   ]
  },
  {
   "cell_type": "code",
   "execution_count": null,
   "metadata": {},
   "outputs": [],
   "source": [
    "#Combine negative data of drug and target features\n",
    "negative_features=[]\n",
    "negative_features=np.concatenate((drug_negative,target_negative),axis=1)\n",
    "print(len(negative_features),len(negative_features[0]))"
   ]
  },
  {
   "cell_type": "code",
   "execution_count": 29,
   "metadata": {},
   "outputs": [
    {
     "name": "stdout",
     "output_type": "stream",
     "text": [
      "10000000 3\n"
     ]
    }
   ],
   "source": [
    "#Keep track of drug and target pairs too as well as interaction\n",
    "neg_ID_interaction= []\n",
    "for i in final_neg_indexes:\n",
    "    neg_ID_interaction.append(data_arr[i])\n",
    "\n",
    "print(len(neg_ID_interaction),len(neg_ID_interaction[0]))"
   ]
  },
  {
   "cell_type": "code",
   "execution_count": 43,
   "metadata": {},
   "outputs": [],
   "source": [
    "#Keep track of the positive features in the test and train set\n",
    "positive=np.concatenate((pos_ID_interaction,positive_features),axis=1)"
   ]
  },
  {
   "cell_type": "code",
   "execution_count": 50,
   "metadata": {},
   "outputs": [
    {
     "name": "stdout",
     "output_type": "stream",
     "text": [
      "10139 281\n",
      "2535 281\n"
     ]
    }
   ],
   "source": [
    "# I will now split the positive data to train and test \n",
    "pos_train,pos_test,pos_y,pos_y_test= train_test_split(positive,np.ones(12674,dtype=int),\n",
    "                                                      test_size=0.20,random_state=42)\n",
    "print(len(pos_train),len(pos_train[0]))\n",
    "print(len(pos_test),len(pos_test[0]))"
   ]
  },
  {
   "cell_type": "code",
   "execution_count": 55,
   "metadata": {},
   "outputs": [
    {
     "name": "stdout",
     "output_type": "stream",
     "text": [
      "10139 278\n"
     ]
    }
   ],
   "source": [
    "pos_training=pd.DataFrame(pos_train)\n",
    "pos_training.drop(pos_training.iloc[:,0:3],inplace=True,axis=1)\n",
    "pos_training_arr=pos_training.to_numpy()\n",
    "print(len(pos_training_arr),len(pos_training_arr[0]))"
   ]
  },
  {
   "cell_type": "code",
   "execution_count": 93,
   "metadata": {},
   "outputs": [
    {
     "name": "stdout",
     "output_type": "stream",
     "text": [
      "2535 278\n"
     ]
    }
   ],
   "source": [
    "pos_testing=pd.DataFrame(pos_test)\n",
    "pos_testing.drop(pos_testing.iloc[:,0:3],inplace=True,axis=1)\n",
    "pos_testing_arr=pos_testing.to_numpy()\n",
    "print(len(pos_testing_arr),len(pos_testing_arr[0]))\n"
   ]
  },
  {
   "cell_type": "markdown",
   "metadata": {},
   "source": [
    "## Addressing Within-Class Bias "
   ]
  },
  {
   "cell_type": "markdown",
   "metadata": {},
   "source": [
    "Since the negative samples can contain a lot of noise, I will only be addressing within-class bias within positive samples. The negative samples can contain noise because some of these samples may be undiscovered drug-target pairs instead of a confirmed negative interaction. I will conduct K-Means Clustering, I used the \"elbow\" and silhouette methods to find the optimal number of cluster. I then used SMOTE, synthetic minority oversampling technique to oversample the minority classes by duplicating minority class examples to match the size of the majority class. These new examples can be synthesized from the existing examples and hence don't add new information to the model. There is a limitation that the smallest cluster needs to have more samples than the n_neighbors. Hence, this is also a limiting factor on the number of cluster for K-Means. The higher the no. clusters, the less samples there are in each group. Hence, this can also increase the computational demands."
   ]
  },
  {
   "cell_type": "code",
   "execution_count": 58,
   "metadata": {},
   "outputs": [],
   "source": [
    "from imblearn.over_sampling import SMOTE\n",
    "from sklearn.cluster import KMeans\n",
    "from sklearn.model_selection import RepeatedStratifiedKFold\n",
    "from sklearn.model_selection import cross_val_score\n",
    "from collections import Counter\n",
    "from matplotlib import pyplot\n",
    "from sklearn.metrics import silhouette_score"
   ]
  },
  {
   "cell_type": "code",
   "execution_count": 60,
   "metadata": {},
   "outputs": [
    {
     "data": {
      "text/plain": [
       "10139"
      ]
     },
     "execution_count": 60,
     "metadata": {},
     "output_type": "execute_result"
    }
   ],
   "source": [
    "kmeans=KMeans(n_clusters=50,random_state=0).fit(pos_training_arr)\n",
    "labels=kmeans.labels_\n",
    "len(labels)"
   ]
  },
  {
   "cell_type": "markdown",
   "metadata": {},
   "source": [
    "Summarize Class Distribution"
   ]
  },
  {
   "cell_type": "code",
   "execution_count": 61,
   "metadata": {},
   "outputs": [
    {
     "name": "stdout",
     "output_type": "stream",
     "text": [
      "Counter({1: 881, 11: 799, 12: 579, 33: 540, 46: 485, 3: 481, 20: 466, 24: 409, 39: 390, 6: 389, 35: 346, 43: 326, 16: 290, 42: 276, 15: 229, 37: 217, 18: 216, 25: 198, 28: 183, 9: 177, 13: 159, 26: 153, 45: 123, 2: 112, 21: 111, 36: 110, 27: 110, 4: 109, 5: 106, 14: 103, 10: 93, 8: 90, 22: 90, 7: 75, 19: 70, 44: 69, 38: 65, 34: 58, 40: 57, 23: 56, 31: 49, 17: 48, 47: 43, 30: 40, 49: 36, 0: 31, 29: 31, 41: 28, 48: 19, 32: 18})\n"
     ]
    }
   ],
   "source": [
    "counter=Counter(labels)\n",
    "print(counter)"
   ]
  },
  {
   "cell_type": "code",
   "execution_count": 63,
   "metadata": {},
   "outputs": [],
   "source": [
    "oversample = SMOTE()\n",
    "pos_final, new_labels = oversample.fit_resample(pos_training_arr, labels)"
   ]
  },
  {
   "cell_type": "code",
   "execution_count": 64,
   "metadata": {},
   "outputs": [
    {
     "name": "stdout",
     "output_type": "stream",
     "text": [
      "44050 278\n"
     ]
    }
   ],
   "source": [
    "print(len(pos_final),len(pos_final[0]))"
   ]
  },
  {
   "cell_type": "code",
   "execution_count": 65,
   "metadata": {},
   "outputs": [
    {
     "name": "stdout",
     "output_type": "stream",
     "text": [
      "Counter({36: 881, 46: 881, 11: 881, 21: 881, 42: 881, 26: 881, 12: 881, 27: 881, 25: 881, 1: 881, 20: 881, 9: 881, 16: 881, 39: 881, 45: 881, 37: 881, 3: 881, 8: 881, 6: 881, 35: 881, 33: 881, 43: 881, 24: 881, 18: 881, 44: 881, 7: 881, 22: 881, 19: 881, 14: 881, 13: 881, 4: 881, 48: 881, 28: 881, 23: 881, 40: 881, 10: 881, 15: 881, 5: 881, 34: 881, 41: 881, 47: 881, 49: 881, 0: 881, 2: 881, 31: 881, 32: 881, 29: 881, 38: 881, 17: 881, 30: 881})\n"
     ]
    }
   ],
   "source": [
    "new_counter=Counter(new_labels)\n",
    "print(new_counter)"
   ]
  },
  {
   "cell_type": "code",
   "execution_count": 67,
   "metadata": {},
   "outputs": [
    {
     "data": {
      "text/plain": [
       "44050"
      ]
     },
     "execution_count": 67,
     "metadata": {},
     "output_type": "execute_result"
    }
   ],
   "source": [
    "no=len(pos_final)\n",
    "no"
   ]
  },
  {
   "cell_type": "markdown",
   "metadata": {},
   "source": [
    "## Ensemble of Decision tree with Biases considered"
   ]
  },
  {
   "cell_type": "code",
   "execution_count": 68,
   "metadata": {},
   "outputs": [
    {
     "data": {
      "text/plain": [
       "44050"
      ]
     },
     "execution_count": 68,
     "metadata": {},
     "output_type": "execute_result"
    }
   ],
   "source": [
    "#Combine negative data of drug and target features\n",
    "temp=drug_negative[0:no]\n",
    "temp2=target_negative[0:no]\n",
    "neg_final=np.concatenate((temp,temp2),axis=1)\n",
    "len(neg_final)"
   ]
  },
  {
   "cell_type": "code",
   "execution_count": 71,
   "metadata": {},
   "outputs": [
    {
     "name": "stdout",
     "output_type": "stream",
     "text": [
      "88100 278\n"
     ]
    }
   ],
   "source": [
    "X=np.concatenate((pos_final,neg_final),axis=0)\n",
    "print(len(X),len(X[1]))"
   ]
  },
  {
   "cell_type": "code",
   "execution_count": 70,
   "metadata": {},
   "outputs": [
    {
     "data": {
      "text/plain": [
       "88100"
      ]
     },
     "execution_count": 70,
     "metadata": {},
     "output_type": "execute_result"
    }
   ],
   "source": [
    "pos=np.ones(no,dtype=int)\n",
    "neg=np.zeros(no,dtype=int)\n",
    "y=np.concatenate((neg,pos))\n",
    "len(y)"
   ]
  },
  {
   "cell_type": "markdown",
   "metadata": {},
   "source": [
    "Boosting combines several weak learners into a strong leader and is used to reduce bias and variance. It does this through a weighted majority vote. Examples are Ada Boost,XGBoost and Gradient Tree Boost. Bootstrapping is sampling with replacement, leaving some data unselected so the unsampled training instances are Out of bag instances which can be used as validation. Bagging is bootstrap aggregating. Random forest and bagging classifiers. Once you have your sample from bootstrapping, a series of models can be build and this ensemble of medels will carry votes with equal weight. "
   ]
  },
  {
   "cell_type": "markdown",
   "metadata": {},
   "source": [
    "In order to increase diversity between the trees in order to have better performance, I will be using max_features and max_samples to tune the DecisionTreeClassifier. Boostrapping for samples and features will also be tested with gridsearch. "
   ]
  },
  {
   "cell_type": "markdown",
   "metadata": {},
   "source": [
    "Final Model: There is no bootstrapping- so features selected without replacement. There is feature subspacing and sample subspacing, with 0.2 and 0.5 of the original dataset selected for each tree. "
   ]
  },
  {
   "cell_type": "code",
   "execution_count": 72,
   "metadata": {},
   "outputs": [
    {
     "name": "stdout",
     "output_type": "stream",
     "text": [
      "AUC-ROC :\n",
      "0.9553297273487638\n"
     ]
    }
   ],
   "source": [
    "from sklearn.ensemble import BaggingClassifier\n",
    "from sklearn.tree import DecisionTreeClassifier\n",
    "from sklearn.model_selection import RepeatedKFold\n",
    "seed=8\n",
    "kfold = RepeatedKFold(random_state = seed)\n",
    "\n",
    "model = BaggingClassifier(base_estimator = DecisionTreeClassifier(), \n",
    "                          n_estimators = 150, \n",
    "                          random_state = seed,max_features=0.2,max_samples=0.5,bootstrap=False,n_jobs=-2) \n",
    "results = cross_val_score(model, X, y, cv = kfold,scoring=\"roc_auc\") \n",
    "print(\"AUC-ROC :\") \n",
    "print(results.mean()) "
   ]
  },
  {
   "cell_type": "markdown",
   "metadata": {},
   "source": [
    "The AUC-ROC cross validation score is 0.95 after conducting gridsearch CV to tune the parameters: max_features, max_samples and bootstrap."
   ]
  },
  {
   "cell_type": "code",
   "execution_count": 74,
   "metadata": {},
   "outputs": [
    {
     "data": {
      "text/plain": [
       "BaggingClassifier(base_estimator=DecisionTreeClassifier(), bootstrap=False,\n",
       "                  max_features=0.2, max_samples=0.5, n_estimators=150,\n",
       "                  n_jobs=-2, random_state=8)"
      ]
     },
     "execution_count": 74,
     "metadata": {},
     "output_type": "execute_result"
    }
   ],
   "source": [
    "model.fit(X,y)"
   ]
  },
  {
   "cell_type": "markdown",
   "metadata": {},
   "source": [
    "Model is saved for testing and further predictions"
   ]
  },
  {
   "cell_type": "code",
   "execution_count": 130,
   "metadata": {},
   "outputs": [],
   "source": [
    "import pickle\n",
    "file_name=\"Decision Tree Ensemble.pkl\"\n",
    "\n",
    "with open(file_name,\"wb\") as file:\n",
    "    pickle.dump(model,file)"
   ]
  },
  {
   "cell_type": "markdown",
   "metadata": {},
   "source": [
    "## GridSearch CV"
   ]
  },
  {
   "cell_type": "markdown",
   "metadata": {},
   "source": [
    "As mentioned before, GridSearchCV was conducted to tune bootstrap, max_samples and max_features. "
   ]
  },
  {
   "cell_type": "code",
   "execution_count": 90,
   "metadata": {},
   "outputs": [
    {
     "name": "stderr",
     "output_type": "stream",
     "text": [
      "[Parallel(n_jobs=11)]: Using backend LokyBackend with 11 concurrent workers.\n",
      "[Parallel(n_jobs=11)]: Done   2 out of  11 | elapsed:   13.4s remaining:  1.0min\n",
      "[Parallel(n_jobs=11)]: Done   4 out of  11 | elapsed:   14.0s remaining:   24.6s\n",
      "[Parallel(n_jobs=11)]: Done   6 out of  11 | elapsed:   14.7s remaining:   12.2s\n",
      "[Parallel(n_jobs=11)]: Done   8 out of  11 | elapsed:   14.9s remaining:    5.5s\n",
      "[Parallel(n_jobs=11)]: Done  11 out of  11 | elapsed:   15.1s finished\n",
      "[Parallel(n_jobs=11)]: Using backend LokyBackend with 11 concurrent workers.\n",
      "[Parallel(n_jobs=11)]: Done   2 out of  11 | elapsed:    0.3s remaining:    1.6s\n",
      "[Parallel(n_jobs=11)]: Done   4 out of  11 | elapsed:    0.4s remaining:    0.7s\n",
      "[Parallel(n_jobs=11)]: Done   6 out of  11 | elapsed:    0.4s remaining:    0.3s\n",
      "[Parallel(n_jobs=11)]: Done   8 out of  11 | elapsed:    0.4s remaining:    0.1s\n",
      "[Parallel(n_jobs=11)]: Done  11 out of  11 | elapsed:    0.5s finished\n",
      "[Parallel(n_jobs=11)]: Using backend LokyBackend with 11 concurrent workers.\n",
      "[Parallel(n_jobs=11)]: Done   2 out of  11 | elapsed:   13.3s remaining:  1.0min\n",
      "[Parallel(n_jobs=11)]: Done   4 out of  11 | elapsed:   13.6s remaining:   23.9s\n",
      "[Parallel(n_jobs=11)]: Done   6 out of  11 | elapsed:   14.2s remaining:   11.9s\n",
      "[Parallel(n_jobs=11)]: Done   8 out of  11 | elapsed:   14.5s remaining:    5.4s\n",
      "[Parallel(n_jobs=11)]: Done  11 out of  11 | elapsed:   14.8s finished\n",
      "[Parallel(n_jobs=11)]: Using backend LokyBackend with 11 concurrent workers.\n",
      "[Parallel(n_jobs=11)]: Done   2 out of  11 | elapsed:    0.3s remaining:    1.8s\n",
      "[Parallel(n_jobs=11)]: Done   4 out of  11 | elapsed:    0.4s remaining:    0.7s\n",
      "[Parallel(n_jobs=11)]: Done   6 out of  11 | elapsed:    0.5s remaining:    0.4s\n",
      "[Parallel(n_jobs=11)]: Done   8 out of  11 | elapsed:    0.5s remaining:    0.1s\n",
      "[Parallel(n_jobs=11)]: Done  11 out of  11 | elapsed:    0.5s finished\n",
      "[Parallel(n_jobs=11)]: Using backend LokyBackend with 11 concurrent workers.\n",
      "[Parallel(n_jobs=11)]: Done   2 out of  11 | elapsed:   14.9s remaining:  1.1min\n",
      "[Parallel(n_jobs=11)]: Done   4 out of  11 | elapsed:   15.8s remaining:   27.8s\n",
      "[Parallel(n_jobs=11)]: Done   6 out of  11 | elapsed:   16.0s remaining:   13.3s\n",
      "[Parallel(n_jobs=11)]: Done   8 out of  11 | elapsed:   16.4s remaining:    6.1s\n",
      "[Parallel(n_jobs=11)]: Done  11 out of  11 | elapsed:   16.7s finished\n",
      "[Parallel(n_jobs=11)]: Using backend LokyBackend with 11 concurrent workers.\n",
      "[Parallel(n_jobs=11)]: Done   2 out of  11 | elapsed:    0.3s remaining:    1.7s\n",
      "[Parallel(n_jobs=11)]: Done   4 out of  11 | elapsed:    0.4s remaining:    0.8s\n",
      "[Parallel(n_jobs=11)]: Done   6 out of  11 | elapsed:    0.5s remaining:    0.4s\n",
      "[Parallel(n_jobs=11)]: Done   8 out of  11 | elapsed:    0.5s remaining:    0.1s\n",
      "[Parallel(n_jobs=11)]: Done  11 out of  11 | elapsed:    0.5s finished\n",
      "[Parallel(n_jobs=11)]: Using backend LokyBackend with 11 concurrent workers.\n",
      "[Parallel(n_jobs=11)]: Done   2 out of  11 | elapsed:   15.2s remaining:  1.1min\n",
      "[Parallel(n_jobs=11)]: Done   4 out of  11 | elapsed:   15.7s remaining:   27.5s\n",
      "[Parallel(n_jobs=11)]: Done   6 out of  11 | elapsed:   16.4s remaining:   13.6s\n",
      "[Parallel(n_jobs=11)]: Done   8 out of  11 | elapsed:   16.5s remaining:    6.1s\n",
      "[Parallel(n_jobs=11)]: Done  11 out of  11 | elapsed:   16.7s finished\n",
      "[Parallel(n_jobs=11)]: Using backend LokyBackend with 11 concurrent workers.\n",
      "[Parallel(n_jobs=11)]: Done   2 out of  11 | elapsed:    0.3s remaining:    1.8s\n",
      "[Parallel(n_jobs=11)]: Done   4 out of  11 | elapsed:    0.4s remaining:    0.8s\n",
      "[Parallel(n_jobs=11)]: Done   6 out of  11 | elapsed:    0.5s remaining:    0.4s\n",
      "[Parallel(n_jobs=11)]: Done   8 out of  11 | elapsed:    0.5s remaining:    0.1s\n",
      "[Parallel(n_jobs=11)]: Done  11 out of  11 | elapsed:    0.6s finished\n",
      "[Parallel(n_jobs=11)]: Using backend LokyBackend with 11 concurrent workers.\n",
      "[Parallel(n_jobs=11)]: Done   2 out of  11 | elapsed:   15.1s remaining:  1.1min\n",
      "[Parallel(n_jobs=11)]: Done   4 out of  11 | elapsed:   15.7s remaining:   27.6s\n",
      "[Parallel(n_jobs=11)]: Done   6 out of  11 | elapsed:   16.4s remaining:   13.6s\n",
      "[Parallel(n_jobs=11)]: Done   8 out of  11 | elapsed:   16.5s remaining:    6.1s\n",
      "[Parallel(n_jobs=11)]: Done  11 out of  11 | elapsed:   16.9s finished\n",
      "[Parallel(n_jobs=11)]: Using backend LokyBackend with 11 concurrent workers.\n",
      "[Parallel(n_jobs=11)]: Done   2 out of  11 | elapsed:    0.3s remaining:    1.6s\n",
      "[Parallel(n_jobs=11)]: Done   4 out of  11 | elapsed:    0.4s remaining:    0.7s\n",
      "[Parallel(n_jobs=11)]: Done   6 out of  11 | elapsed:    0.5s remaining:    0.4s\n",
      "[Parallel(n_jobs=11)]: Done   8 out of  11 | elapsed:    0.5s remaining:    0.1s\n",
      "[Parallel(n_jobs=11)]: Done  11 out of  11 | elapsed:    0.5s finished\n",
      "[Parallel(n_jobs=11)]: Using backend LokyBackend with 11 concurrent workers.\n",
      "[Parallel(n_jobs=11)]: Done   2 out of  11 | elapsed:   19.4s remaining:  1.5min\n",
      "[Parallel(n_jobs=11)]: Done   4 out of  11 | elapsed:   20.4s remaining:   35.8s\n",
      "[Parallel(n_jobs=11)]: Done   6 out of  11 | elapsed:   20.9s remaining:   17.4s\n",
      "[Parallel(n_jobs=11)]: Done   8 out of  11 | elapsed:   21.3s remaining:    7.9s\n",
      "[Parallel(n_jobs=11)]: Done  11 out of  11 | elapsed:   21.6s finished\n",
      "[Parallel(n_jobs=11)]: Using backend LokyBackend with 11 concurrent workers.\n",
      "[Parallel(n_jobs=11)]: Done   2 out of  11 | elapsed:    0.3s remaining:    1.6s\n",
      "[Parallel(n_jobs=11)]: Done   4 out of  11 | elapsed:    0.4s remaining:    0.8s\n",
      "[Parallel(n_jobs=11)]: Done   6 out of  11 | elapsed:    0.4s remaining:    0.3s\n",
      "[Parallel(n_jobs=11)]: Done   8 out of  11 | elapsed:    0.5s remaining:    0.1s\n",
      "[Parallel(n_jobs=11)]: Done  11 out of  11 | elapsed:    0.5s finished\n",
      "[Parallel(n_jobs=11)]: Using backend LokyBackend with 11 concurrent workers.\n",
      "[Parallel(n_jobs=11)]: Done   2 out of  11 | elapsed:   20.3s remaining:  1.5min\n",
      "[Parallel(n_jobs=11)]: Done   4 out of  11 | elapsed:   21.1s remaining:   37.0s\n",
      "[Parallel(n_jobs=11)]: Done   6 out of  11 | elapsed:   22.1s remaining:   18.4s\n",
      "[Parallel(n_jobs=11)]: Done   8 out of  11 | elapsed:   22.3s remaining:    8.3s\n",
      "[Parallel(n_jobs=11)]: Done  11 out of  11 | elapsed:   22.9s finished\n",
      "[Parallel(n_jobs=11)]: Using backend LokyBackend with 11 concurrent workers.\n",
      "[Parallel(n_jobs=11)]: Done   2 out of  11 | elapsed:    0.3s remaining:    1.7s\n",
      "[Parallel(n_jobs=11)]: Done   4 out of  11 | elapsed:    0.4s remaining:    0.7s\n",
      "[Parallel(n_jobs=11)]: Done   6 out of  11 | elapsed:    0.5s remaining:    0.4s\n",
      "[Parallel(n_jobs=11)]: Done   8 out of  11 | elapsed:    0.5s remaining:    0.1s\n",
      "[Parallel(n_jobs=11)]: Done  11 out of  11 | elapsed:    0.6s finished\n",
      "[Parallel(n_jobs=11)]: Using backend LokyBackend with 11 concurrent workers.\n",
      "[Parallel(n_jobs=11)]: Done   2 out of  11 | elapsed:   24.6s remaining:  1.8min\n",
      "[Parallel(n_jobs=11)]: Done   4 out of  11 | elapsed:   25.1s remaining:   44.1s\n",
      "[Parallel(n_jobs=11)]: Done   6 out of  11 | elapsed:   26.2s remaining:   21.8s\n",
      "[Parallel(n_jobs=11)]: Done   8 out of  11 | elapsed:   26.8s remaining:   10.0s\n",
      "[Parallel(n_jobs=11)]: Done  11 out of  11 | elapsed:   27.5s finished\n",
      "[Parallel(n_jobs=11)]: Using backend LokyBackend with 11 concurrent workers.\n",
      "[Parallel(n_jobs=11)]: Done   2 out of  11 | elapsed:    0.3s remaining:    1.7s\n",
      "[Parallel(n_jobs=11)]: Done   4 out of  11 | elapsed:    0.4s remaining:    0.8s\n",
      "[Parallel(n_jobs=11)]: Done   6 out of  11 | elapsed:    0.5s remaining:    0.4s\n",
      "[Parallel(n_jobs=11)]: Done   8 out of  11 | elapsed:    0.6s remaining:    0.2s\n",
      "[Parallel(n_jobs=11)]: Done  11 out of  11 | elapsed:    0.6s finished\n",
      "[Parallel(n_jobs=11)]: Using backend LokyBackend with 11 concurrent workers.\n",
      "[Parallel(n_jobs=11)]: Done   2 out of  11 | elapsed:   27.8s remaining:  2.1min\n",
      "[Parallel(n_jobs=11)]: Done   4 out of  11 | elapsed:   28.9s remaining:   50.6s\n",
      "[Parallel(n_jobs=11)]: Done   6 out of  11 | elapsed:   29.8s remaining:   24.8s\n",
      "[Parallel(n_jobs=11)]: Done   8 out of  11 | elapsed:   30.0s remaining:   11.2s\n",
      "[Parallel(n_jobs=11)]: Done  11 out of  11 | elapsed:   30.8s finished\n",
      "[Parallel(n_jobs=11)]: Using backend LokyBackend with 11 concurrent workers.\n",
      "[Parallel(n_jobs=11)]: Done   2 out of  11 | elapsed:    0.3s remaining:    1.8s\n",
      "[Parallel(n_jobs=11)]: Done   4 out of  11 | elapsed:    0.4s remaining:    0.8s\n",
      "[Parallel(n_jobs=11)]: Done   6 out of  11 | elapsed:    0.5s remaining:    0.4s\n"
     ]
    },
    {
     "name": "stderr",
     "output_type": "stream",
     "text": [
      "[Parallel(n_jobs=11)]: Done   8 out of  11 | elapsed:    0.6s remaining:    0.2s\n",
      "[Parallel(n_jobs=11)]: Done  11 out of  11 | elapsed:    0.7s finished\n",
      "[Parallel(n_jobs=11)]: Using backend LokyBackend with 11 concurrent workers.\n",
      "[Parallel(n_jobs=11)]: Done   2 out of  11 | elapsed:   24.6s remaining:  1.8min\n",
      "[Parallel(n_jobs=11)]: Done   4 out of  11 | elapsed:   25.4s remaining:   44.5s\n",
      "[Parallel(n_jobs=11)]: Done   6 out of  11 | elapsed:   25.5s remaining:   21.3s\n",
      "[Parallel(n_jobs=11)]: Done   8 out of  11 | elapsed:   26.0s remaining:    9.7s\n",
      "[Parallel(n_jobs=11)]: Done  11 out of  11 | elapsed:   26.5s finished\n",
      "[Parallel(n_jobs=11)]: Using backend LokyBackend with 11 concurrent workers.\n",
      "[Parallel(n_jobs=11)]: Done   2 out of  11 | elapsed:    0.3s remaining:    1.8s\n",
      "[Parallel(n_jobs=11)]: Done   4 out of  11 | elapsed:    0.4s remaining:    0.8s\n",
      "[Parallel(n_jobs=11)]: Done   6 out of  11 | elapsed:    0.5s remaining:    0.4s\n",
      "[Parallel(n_jobs=11)]: Done   8 out of  11 | elapsed:    0.6s remaining:    0.1s\n",
      "[Parallel(n_jobs=11)]: Done  11 out of  11 | elapsed:    0.6s finished\n",
      "[Parallel(n_jobs=11)]: Using backend LokyBackend with 11 concurrent workers.\n",
      "[Parallel(n_jobs=11)]: Done   2 out of  11 | elapsed:   36.9s remaining:  2.8min\n",
      "[Parallel(n_jobs=11)]: Done   4 out of  11 | elapsed:   37.9s remaining:  1.1min\n",
      "[Parallel(n_jobs=11)]: Done   6 out of  11 | elapsed:   38.8s remaining:   32.3s\n",
      "[Parallel(n_jobs=11)]: Done   8 out of  11 | elapsed:   39.1s remaining:   14.6s\n",
      "[Parallel(n_jobs=11)]: Done  11 out of  11 | elapsed:   39.3s finished\n",
      "[Parallel(n_jobs=11)]: Using backend LokyBackend with 11 concurrent workers.\n",
      "[Parallel(n_jobs=11)]: Done   2 out of  11 | elapsed:    0.7s remaining:    3.3s\n",
      "[Parallel(n_jobs=11)]: Done   4 out of  11 | elapsed:    0.7s remaining:    1.3s\n",
      "[Parallel(n_jobs=11)]: Done   6 out of  11 | elapsed:    0.8s remaining:    0.6s\n",
      "[Parallel(n_jobs=11)]: Done   8 out of  11 | elapsed:    0.8s remaining:    0.2s\n",
      "[Parallel(n_jobs=11)]: Done  11 out of  11 | elapsed:    0.8s finished\n",
      "[Parallel(n_jobs=11)]: Using backend LokyBackend with 11 concurrent workers.\n",
      "[Parallel(n_jobs=11)]: Done   2 out of  11 | elapsed:   33.5s remaining:  2.5min\n",
      "[Parallel(n_jobs=11)]: Done   4 out of  11 | elapsed:   35.1s remaining:  1.0min\n",
      "[Parallel(n_jobs=11)]: Done   6 out of  11 | elapsed:   35.6s remaining:   29.6s\n",
      "[Parallel(n_jobs=11)]: Done   8 out of  11 | elapsed:   35.7s remaining:   13.3s\n",
      "[Parallel(n_jobs=11)]: Done  11 out of  11 | elapsed:   36.3s finished\n",
      "[Parallel(n_jobs=11)]: Using backend LokyBackend with 11 concurrent workers.\n",
      "[Parallel(n_jobs=11)]: Done   2 out of  11 | elapsed:    0.7s remaining:    3.4s\n",
      "[Parallel(n_jobs=11)]: Done   4 out of  11 | elapsed:    0.7s remaining:    1.3s\n",
      "[Parallel(n_jobs=11)]: Done   6 out of  11 | elapsed:    0.8s remaining:    0.6s\n",
      "[Parallel(n_jobs=11)]: Done   8 out of  11 | elapsed:    0.8s remaining:    0.2s\n",
      "[Parallel(n_jobs=11)]: Done  11 out of  11 | elapsed:    0.8s finished\n",
      "[Parallel(n_jobs=11)]: Using backend LokyBackend with 11 concurrent workers.\n",
      "[Parallel(n_jobs=11)]: Done   2 out of  11 | elapsed:   34.6s remaining:  2.6min\n",
      "[Parallel(n_jobs=11)]: Done   4 out of  11 | elapsed:   35.3s remaining:  1.0min\n",
      "[Parallel(n_jobs=11)]: Done   6 out of  11 | elapsed:   35.6s remaining:   29.7s\n",
      "[Parallel(n_jobs=11)]: Done   8 out of  11 | elapsed:   36.7s remaining:   13.7s\n",
      "[Parallel(n_jobs=11)]: Done  11 out of  11 | elapsed:   37.4s finished\n",
      "[Parallel(n_jobs=11)]: Using backend LokyBackend with 11 concurrent workers.\n",
      "[Parallel(n_jobs=11)]: Done   2 out of  11 | elapsed:    0.6s remaining:    3.1s\n",
      "[Parallel(n_jobs=11)]: Done   4 out of  11 | elapsed:    0.7s remaining:    1.3s\n",
      "[Parallel(n_jobs=11)]: Done   6 out of  11 | elapsed:    0.8s remaining:    0.6s\n",
      "[Parallel(n_jobs=11)]: Done   8 out of  11 | elapsed:    0.8s remaining:    0.2s\n",
      "[Parallel(n_jobs=11)]: Done  11 out of  11 | elapsed:    0.9s finished\n",
      "[Parallel(n_jobs=11)]: Using backend LokyBackend with 11 concurrent workers.\n",
      "[Parallel(n_jobs=11)]: Done   2 out of  11 | elapsed:   33.7s remaining:  2.5min\n",
      "[Parallel(n_jobs=11)]: Done   4 out of  11 | elapsed:   35.5s remaining:  1.0min\n",
      "[Parallel(n_jobs=11)]: Done   6 out of  11 | elapsed:   36.2s remaining:   30.2s\n",
      "[Parallel(n_jobs=11)]: Done   8 out of  11 | elapsed:   36.4s remaining:   13.6s\n",
      "[Parallel(n_jobs=11)]: Done  11 out of  11 | elapsed:   37.5s finished\n",
      "[Parallel(n_jobs=11)]: Using backend LokyBackend with 11 concurrent workers.\n",
      "[Parallel(n_jobs=11)]: Done   2 out of  11 | elapsed:    0.7s remaining:    3.5s\n",
      "[Parallel(n_jobs=11)]: Done   4 out of  11 | elapsed:    0.8s remaining:    1.4s\n",
      "[Parallel(n_jobs=11)]: Done   6 out of  11 | elapsed:    0.8s remaining:    0.7s\n",
      "[Parallel(n_jobs=11)]: Done   8 out of  11 | elapsed:    0.9s remaining:    0.3s\n",
      "[Parallel(n_jobs=11)]: Done  11 out of  11 | elapsed:    0.9s finished\n",
      "[Parallel(n_jobs=11)]: Using backend LokyBackend with 11 concurrent workers.\n",
      "[Parallel(n_jobs=11)]: Done   2 out of  11 | elapsed:   41.5s remaining:  3.1min\n",
      "[Parallel(n_jobs=11)]: Done   4 out of  11 | elapsed:   42.9s remaining:  1.3min\n",
      "[Parallel(n_jobs=11)]: Done   6 out of  11 | elapsed:   44.1s remaining:   36.7s\n",
      "[Parallel(n_jobs=11)]: Done   8 out of  11 | elapsed:   44.5s remaining:   16.6s\n",
      "[Parallel(n_jobs=11)]: Done  11 out of  11 | elapsed:   45.3s finished\n",
      "[Parallel(n_jobs=11)]: Using backend LokyBackend with 11 concurrent workers.\n",
      "[Parallel(n_jobs=11)]: Done   2 out of  11 | elapsed:    0.6s remaining:    3.2s\n",
      "[Parallel(n_jobs=11)]: Done   4 out of  11 | elapsed:    0.7s remaining:    1.3s\n",
      "[Parallel(n_jobs=11)]: Done   6 out of  11 | elapsed:    0.8s remaining:    0.6s\n",
      "[Parallel(n_jobs=11)]: Done   8 out of  11 | elapsed:    0.8s remaining:    0.3s\n",
      "[Parallel(n_jobs=11)]: Done  11 out of  11 | elapsed:    0.9s finished\n",
      "[Parallel(n_jobs=11)]: Using backend LokyBackend with 11 concurrent workers.\n",
      "[Parallel(n_jobs=11)]: Done   2 out of  11 | elapsed:   54.3s remaining:  4.1min\n",
      "[Parallel(n_jobs=11)]: Done   4 out of  11 | elapsed:   54.5s remaining:  1.6min\n",
      "[Parallel(n_jobs=11)]: Done   6 out of  11 | elapsed:   57.0s remaining:   47.5s\n",
      "[Parallel(n_jobs=11)]: Done   8 out of  11 | elapsed:   57.3s remaining:   21.4s\n",
      "[Parallel(n_jobs=11)]: Done  11 out of  11 | elapsed:   57.8s finished\n",
      "[Parallel(n_jobs=11)]: Using backend LokyBackend with 11 concurrent workers.\n",
      "[Parallel(n_jobs=11)]: Done   2 out of  11 | elapsed:    0.7s remaining:    3.3s\n",
      "[Parallel(n_jobs=11)]: Done   4 out of  11 | elapsed:    0.7s remaining:    1.3s\n",
      "[Parallel(n_jobs=11)]: Done   6 out of  11 | elapsed:    0.8s remaining:    0.6s\n",
      "[Parallel(n_jobs=11)]: Done   8 out of  11 | elapsed:    0.8s remaining:    0.2s\n",
      "[Parallel(n_jobs=11)]: Done  11 out of  11 | elapsed:    0.8s finished\n",
      "[Parallel(n_jobs=11)]: Using backend LokyBackend with 11 concurrent workers.\n",
      "[Parallel(n_jobs=11)]: Done   2 out of  11 | elapsed:   42.1s remaining:  3.2min\n",
      "[Parallel(n_jobs=11)]: Done   4 out of  11 | elapsed:   44.2s remaining:  1.3min\n",
      "[Parallel(n_jobs=11)]: Done   6 out of  11 | elapsed:   45.5s remaining:   37.9s\n",
      "[Parallel(n_jobs=11)]: Done   8 out of  11 | elapsed:   45.9s remaining:   17.1s\n",
      "[Parallel(n_jobs=11)]: Done  11 out of  11 | elapsed:   46.1s finished\n",
      "[Parallel(n_jobs=11)]: Using backend LokyBackend with 11 concurrent workers.\n",
      "[Parallel(n_jobs=11)]: Done   2 out of  11 | elapsed:    0.7s remaining:    3.4s\n",
      "[Parallel(n_jobs=11)]: Done   4 out of  11 | elapsed:    0.7s remaining:    1.3s\n",
      "[Parallel(n_jobs=11)]: Done   6 out of  11 | elapsed:    0.8s remaining:    0.7s\n",
      "[Parallel(n_jobs=11)]: Done   8 out of  11 | elapsed:    0.8s remaining:    0.3s\n",
      "[Parallel(n_jobs=11)]: Done  11 out of  11 | elapsed:    0.9s finished\n",
      "[Parallel(n_jobs=11)]: Using backend LokyBackend with 11 concurrent workers.\n",
      "[Parallel(n_jobs=11)]: Done   2 out of  11 | elapsed:   42.6s remaining:  3.2min\n",
      "[Parallel(n_jobs=11)]: Done   4 out of  11 | elapsed:   43.0s remaining:  1.3min\n",
      "[Parallel(n_jobs=11)]: Done   6 out of  11 | elapsed:   43.7s remaining:   36.4s\n",
      "[Parallel(n_jobs=11)]: Done   8 out of  11 | elapsed:   44.5s remaining:   16.6s\n",
      "[Parallel(n_jobs=11)]: Done  11 out of  11 | elapsed:   45.9s finished\n",
      "[Parallel(n_jobs=11)]: Using backend LokyBackend with 11 concurrent workers.\n"
     ]
    },
    {
     "name": "stderr",
     "output_type": "stream",
     "text": [
      "[Parallel(n_jobs=11)]: Done   2 out of  11 | elapsed:    0.7s remaining:    3.4s\n",
      "[Parallel(n_jobs=11)]: Done   4 out of  11 | elapsed:    0.8s remaining:    1.4s\n",
      "[Parallel(n_jobs=11)]: Done   6 out of  11 | elapsed:    0.8s remaining:    0.7s\n",
      "[Parallel(n_jobs=11)]: Done   8 out of  11 | elapsed:    0.9s remaining:    0.3s\n",
      "[Parallel(n_jobs=11)]: Done  11 out of  11 | elapsed:    0.9s finished\n",
      "[Parallel(n_jobs=11)]: Using backend LokyBackend with 11 concurrent workers.\n",
      "[Parallel(n_jobs=11)]: Done   2 out of  11 | elapsed:   43.8s remaining:  3.3min\n",
      "[Parallel(n_jobs=11)]: Done   4 out of  11 | elapsed:   46.5s remaining:  1.4min\n",
      "[Parallel(n_jobs=11)]: Done   6 out of  11 | elapsed:   47.3s remaining:   39.4s\n",
      "[Parallel(n_jobs=11)]: Done   8 out of  11 | elapsed:   47.7s remaining:   17.8s\n",
      "[Parallel(n_jobs=11)]: Done  11 out of  11 | elapsed:   48.6s finished\n",
      "[Parallel(n_jobs=11)]: Using backend LokyBackend with 11 concurrent workers.\n",
      "[Parallel(n_jobs=11)]: Done   2 out of  11 | elapsed:    0.7s remaining:    3.3s\n",
      "[Parallel(n_jobs=11)]: Done   4 out of  11 | elapsed:    0.7s remaining:    1.3s\n",
      "[Parallel(n_jobs=11)]: Done   6 out of  11 | elapsed:    0.8s remaining:    0.7s\n",
      "[Parallel(n_jobs=11)]: Done   8 out of  11 | elapsed:    0.9s remaining:    0.3s\n",
      "[Parallel(n_jobs=11)]: Done  11 out of  11 | elapsed:    0.9s finished\n",
      "[Parallel(n_jobs=11)]: Using backend LokyBackend with 11 concurrent workers.\n",
      "[Parallel(n_jobs=11)]: Done   2 out of  11 | elapsed:   58.4s remaining:  4.4min\n",
      "[Parallel(n_jobs=11)]: Done   4 out of  11 | elapsed:  1.0min remaining:  1.8min\n",
      "[Parallel(n_jobs=11)]: Done   6 out of  11 | elapsed:  1.0min remaining:   51.3s\n",
      "[Parallel(n_jobs=11)]: Done   8 out of  11 | elapsed:  1.1min remaining:   23.8s\n",
      "[Parallel(n_jobs=11)]: Done  11 out of  11 | elapsed:  1.1min finished\n",
      "[Parallel(n_jobs=11)]: Using backend LokyBackend with 11 concurrent workers.\n",
      "[Parallel(n_jobs=11)]: Done   2 out of  11 | elapsed:    0.7s remaining:    3.6s\n",
      "[Parallel(n_jobs=11)]: Done   4 out of  11 | elapsed:    0.8s remaining:    1.5s\n",
      "[Parallel(n_jobs=11)]: Done   6 out of  11 | elapsed:    0.9s remaining:    0.7s\n",
      "[Parallel(n_jobs=11)]: Done   8 out of  11 | elapsed:    0.9s remaining:    0.3s\n",
      "[Parallel(n_jobs=11)]: Done  11 out of  11 | elapsed:    1.0s finished\n",
      "[Parallel(n_jobs=11)]: Using backend LokyBackend with 11 concurrent workers.\n",
      "[Parallel(n_jobs=11)]: Done   2 out of  11 | elapsed:  1.2min remaining:  5.3min\n",
      "[Parallel(n_jobs=11)]: Done   4 out of  11 | elapsed:  1.2min remaining:  2.1min\n",
      "[Parallel(n_jobs=11)]: Done   6 out of  11 | elapsed:  1.2min remaining:  1.0min\n",
      "[Parallel(n_jobs=11)]: Done   8 out of  11 | elapsed:  1.2min remaining:   27.7s\n",
      "[Parallel(n_jobs=11)]: Done  11 out of  11 | elapsed:  1.3min finished\n"
     ]
    },
    {
     "data": {
      "text/plain": [
       "GridSearchCV(estimator=BaggingClassifier(base_estimator=DecisionTreeClassifier(),\n",
       "                                         bootstrap=False, n_estimators=150,\n",
       "                                         n_jobs=-2, random_state=8,\n",
       "                                         verbose=10),\n",
       "             param_grid={'max_features': [0.1, 0.2], 'max_samples': [0.4, 0.5]},\n",
       "             scoring='roc_auc')"
      ]
     },
     "execution_count": 90,
     "metadata": {},
     "output_type": "execute_result"
    }
   ],
   "source": [
    "from sklearn.model_selection import RandomizedSearchCV\n",
    "from sklearn.model_selection import GridSearchCV\n",
    "from sklearn.ensemble import BaggingClassifier\n",
    "from sklearn.tree import DecisionTreeClassifier\n",
    "seed=8\n",
    "param_grid = {\n",
    "    'max_samples' : [0.4, 0.5],\n",
    "    'max_features':[0.1,0.2],\n",
    "}\n",
    "\n",
    "chosen_scoring=(\"roc_auc\")\n",
    "\n",
    "clf = GridSearchCV(BaggingClassifier(DecisionTreeClassifier(),\n",
    "                                     n_estimators = 150,  random_state = seed,n_jobs=-2,bootstrap=False,verbose=10),\n",
    "                                       param_grid, scoring = chosen_scoring)\n",
    "clf.fit(X, y)\n"
   ]
  },
  {
   "cell_type": "code",
   "execution_count": 94,
   "metadata": {},
   "outputs": [
    {
     "data": {
      "text/plain": [
       "{'mean_fit_time': array([16.40621839, 26.23834982, 39.55158601, 52.88964205]),\n",
       " 'std_fit_time': array([0.88798559, 3.33564003, 3.20729711, 7.27869796]),\n",
       " 'mean_score_time': array([0.87100368, 0.95953293, 1.22401795, 1.26165929]),\n",
       " 'std_score_time': array([0.05002436, 0.07332248, 0.05459476, 0.07869292]),\n",
       " 'param_max_features': masked_array(data=[0.1, 0.1, 0.2, 0.2],\n",
       "              mask=[False, False, False, False],\n",
       "        fill_value='?',\n",
       "             dtype=object),\n",
       " 'param_max_samples': masked_array(data=[0.4, 0.5, 0.4, 0.5],\n",
       "              mask=[False, False, False, False],\n",
       "        fill_value='?',\n",
       "             dtype=object),\n",
       " 'params': [{'max_features': 0.1, 'max_samples': 0.4},\n",
       "  {'max_features': 0.1, 'max_samples': 0.5},\n",
       "  {'max_features': 0.2, 'max_samples': 0.4},\n",
       "  {'max_features': 0.2, 'max_samples': 0.5}],\n",
       " 'split0_test_score': array([0.80968053, 0.81178318, 0.8139563 , 0.82005817]),\n",
       " 'split1_test_score': array([0.94759278, 0.95483813, 0.94500947, 0.95275561]),\n",
       " 'split2_test_score': array([0.97052113, 0.97490799, 0.97120733, 0.97521714]),\n",
       " 'split3_test_score': array([0.97076841, 0.97686242, 0.97141536, 0.97693595]),\n",
       " 'split4_test_score': array([0.96626729, 0.9728473 , 0.96773078, 0.9739154 ]),\n",
       " 'mean_test_score': array([0.93296603, 0.9382478 , 0.93386385, 0.93977646]),\n",
       " 'std_test_score': array([0.06222802, 0.06371926, 0.0607514 , 0.06050333]),\n",
       " 'rank_test_score': array([4, 2, 3, 1])}"
      ]
     },
     "execution_count": 94,
     "metadata": {},
     "output_type": "execute_result"
    }
   ],
   "source": [
    "clf.cv_results_\n"
   ]
  },
  {
   "cell_type": "code",
   "execution_count": 91,
   "metadata": {},
   "outputs": [
    {
     "data": {
      "text/plain": [
       "BaggingClassifier(base_estimator=DecisionTreeClassifier(), bootstrap=False,\n",
       "                  max_features=0.2, max_samples=0.5, n_estimators=150,\n",
       "                  n_jobs=-2, random_state=8, verbose=10)"
      ]
     },
     "execution_count": 91,
     "metadata": {},
     "output_type": "execute_result"
    }
   ],
   "source": [
    "clf.best_estimator_"
   ]
  },
  {
   "cell_type": "code",
   "execution_count": 92,
   "metadata": {},
   "outputs": [
    {
     "data": {
      "text/plain": [
       "{'max_features': 0.2, 'max_samples': 0.5}"
      ]
     },
     "execution_count": 92,
     "metadata": {},
     "output_type": "execute_result"
    }
   ],
   "source": [
    "clf.best_params_"
   ]
  },
  {
   "cell_type": "code",
   "execution_count": 93,
   "metadata": {},
   "outputs": [
    {
     "data": {
      "text/plain": [
       "0.9397764550283341"
      ]
     },
     "execution_count": 93,
     "metadata": {},
     "output_type": "execute_result"
    }
   ],
   "source": [
    "clf.best_score_"
   ]
  },
  {
   "cell_type": "markdown",
   "metadata": {},
   "source": [
    "## Initializing Testing"
   ]
  },
  {
   "cell_type": "markdown",
   "metadata": {},
   "source": [
    "The test set is then created with the positive testing dataset concatenated with negative samples that werent included in training the model."
   ]
  },
  {
   "cell_type": "code",
   "execution_count": 97,
   "metadata": {},
   "outputs": [
    {
     "data": {
      "text/plain": [
       "2535"
      ]
     },
     "execution_count": 97,
     "metadata": {},
     "output_type": "execute_result"
    }
   ],
   "source": [
    "no_2=len(pos_testing_arr)\n",
    "no_2"
   ]
  },
  {
   "cell_type": "code",
   "execution_count": 98,
   "metadata": {},
   "outputs": [
    {
     "data": {
      "text/plain": [
       "2535"
      ]
     },
     "execution_count": 98,
     "metadata": {},
     "output_type": "execute_result"
    }
   ],
   "source": [
    "temp=drug_negative[no+1:no+1+2535]\n",
    "temp2=target_negative[no+1:no+1+2535]\n",
    "neg_final_test=np.concatenate((temp,temp2),axis=1)\n",
    "len(neg_final_test)"
   ]
  },
  {
   "cell_type": "code",
   "execution_count": 100,
   "metadata": {},
   "outputs": [
    {
     "name": "stdout",
     "output_type": "stream",
     "text": [
      "5070 278\n"
     ]
    }
   ],
   "source": [
    "X_test=np.concatenate((pos_testing_arr,neg_final_test),axis=0)\n",
    "print(len(X_test),len(X_test[0]))"
   ]
  },
  {
   "cell_type": "code",
   "execution_count": 105,
   "metadata": {},
   "outputs": [
    {
     "data": {
      "text/plain": [
       "5070"
      ]
     },
     "execution_count": 105,
     "metadata": {},
     "output_type": "execute_result"
    }
   ],
   "source": [
    "pos=np.ones(no_2,dtype=int)\n",
    "neg=np.zeros(no_2,dtype=int)\n",
    "y_test=np.concatenate((neg,pos))\n",
    "len(y_test)"
   ]
  },
  {
   "cell_type": "code",
   "execution_count": 134,
   "metadata": {},
   "outputs": [],
   "source": [
    "from numpy import savetxt\n",
    "savetxt('X_test.csv',X_test,delimiter=\",\")\n",
    "savetxt('y_test.csv',y_test,delimiter=\",\")\n"
   ]
  },
  {
   "cell_type": "markdown",
   "metadata": {},
   "source": [
    "## Miscellaneous- Trying out Voting Classifier"
   ]
  },
  {
   "cell_type": "markdown",
   "metadata": {},
   "source": [
    "In order to further increase diversity of the trees to increase the performance of the ensemble, different subset of the negative features can be used for each tree. Hence, this was tried below in tuning each individual tree. But because packages such as sklearn is so much more efficient, I reverted back to the methods above. "
   ]
  },
  {
   "cell_type": "code",
   "execution_count": null,
   "metadata": {},
   "outputs": [],
   "source": [
    "from sklearn.tree import DecisionTreeClassifier\n",
    "from sklearn.ensemble import VotingClassifier\n",
    "from sklearn.metrics import accuracy_score"
   ]
  },
  {
   "cell_type": "code",
   "execution_count": null,
   "metadata": {},
   "outputs": [],
   "source": [
    "n_estimators=100\n",
    "n_val=27512\n",
    "negative_arr=negative_features[0:n_estimators*n_val]\n",
    "split_arr=np.array_split(negative_arr,n_estimators)\n"
   ]
  },
  {
   "cell_type": "code",
   "execution_count": null,
   "metadata": {},
   "outputs": [],
   "source": [
    "model, scores, cv_scores, ind_scores = list(), list(), list(), list()\n",
    "\n",
    "for i in range(n_estimators): \n",
    "    model.append((i,DecisionTreeClassifier(max_depth=None, max_features=0.2)))\n",
    "\n",
    "for i in range(n_estimators):\n",
    "    X_temp=np.concatenate((split_arr[i],X_res),axis=0)\n",
    "    cv=RepeatedStratifiedKFold(n_splits=10,n_repeats=3,random_state=1)\n",
    "    dt=model[i][1].fit(X_temp,y)\n",
    "    #sc=cross_val_score(model[i][1],X_temp,y,cv=cv,n_jobs=-2)\n",
    "    #cv_scores.append(sc)\n",
    "    ind_scores.append(model[i][1].score(X_temp,y))\n",
    "    scores.append(dt.predict(X_test))\n"
   ]
  },
  {
   "cell_type": "code",
   "execution_count": null,
   "metadata": {},
   "outputs": [],
   "source": [
    "score_arr=np.array(scores)\n",
    "most_voted=list()\n",
    "for i in range(len(scores[0])):\n",
    "    temp=score_arr[:,i]\n",
    "    most_voted.append(np.bincount(temp).argmax())\n",
    "    \n",
    "acc=accuracy_score(y_test,most_voted)\n",
    "acc"
   ]
  }
 ],
 "metadata": {
  "kernelspec": {
   "display_name": "Python 3",
   "language": "python",
   "name": "python3"
  },
  "language_info": {
   "codemirror_mode": {
    "name": "ipython",
    "version": 3
   },
   "file_extension": ".py",
   "mimetype": "text/x-python",
   "name": "python",
   "nbconvert_exporter": "python",
   "pygments_lexer": "ipython3",
   "version": "3.8.3"
  }
 },
 "nbformat": 4,
 "nbformat_minor": 4
}
